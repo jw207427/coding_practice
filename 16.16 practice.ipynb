{
 "cells": [
  {
   "cell_type": "code",
   "execution_count": 6,
   "metadata": {},
   "outputs": [
    {
     "data": {
      "text/plain": [
       "-5"
      ]
     },
     "execution_count": 6,
     "metadata": {},
     "output_type": "execute_result"
    }
   ],
   "source": [
    "#16.16 You are given an integer array which was sorted, but then rotated. \n",
    "#It contains all distinct elements. Find the minimum value. For example, \n",
    "#the array might be 6, 8, 9, 11, 15, 20, 3, 4, 5. The minimum value would \n",
    "#obviously be 3.\n",
    "\n",
    "s =[6, 8, 9, -5, -2, 3, 3, 4, 5]\n",
    "\n",
    "def sort_rotated(s):\n",
    "    while s[0] >= s[len(s)-1]:\n",
    "        s.insert(0, s.pop())\n",
    "    \n",
    "    return s[0]\n",
    "\n",
    "sort_rotated(s)"
   ]
  },
  {
   "cell_type": "code",
   "execution_count": 7,
   "metadata": {},
   "outputs": [
    {
     "data": {
      "text/plain": [
       "-5"
      ]
     },
     "execution_count": 7,
     "metadata": {},
     "output_type": "execute_result"
    }
   ],
   "source": [
    "def find_min(s, left, right):\n",
    "    \n",
    "    if s[left] < s[right]:\n",
    "        return s[left]\n",
    "    mid = right//2\n",
    "    \n",
    "    if s[left]> s[mid]:\n",
    "        return find_min(s, left, mid)\n",
    "    else:\n",
    "        return find_min(s, mid+1, right)\n",
    "    \n",
    "find_min(s, 0, len(s)-1)\n",
    "    "
   ]
  },
  {
   "cell_type": "code",
   "execution_count": 1,
   "metadata": {},
   "outputs": [
    {
     "name": "stdout",
     "output_type": "stream",
     "text": [
      "[10, 1, 2, 3, 4, 5, 6, 7, 8]\n",
      "[10, 1, 2, 3]\n",
      "[10, 1]\n",
      "[10]\n",
      "[1]\n",
      "[2, 3]\n",
      "[4, 5, 6, 7, 8]\n"
     ]
    },
    {
     "data": {
      "text/plain": [
       "1"
      ]
     },
     "execution_count": 1,
     "metadata": {},
     "output_type": "execute_result"
    }
   ],
   "source": [
    "def find_min2(S):\n",
    "    print(S)\n",
    "    if S[0]< S[len(S)-1]:\n",
    "        return S[0]\n",
    "    \n",
    "    if len(S)<=1:\n",
    "        return S[0]\n",
    "    mid = len(S)//2\n",
    "    return min(find_min2(S[:mid]), find_min2(S[mid:]))\n",
    "\n",
    "s =[10, 1, 2, 3, 4, 5, 6, 7, 8]\n",
    "find_min2(s)"
   ]
  },
  {
   "cell_type": "code",
   "execution_count": null,
   "metadata": {
    "collapsed": true
   },
   "outputs": [],
   "source": []
  }
 ],
 "metadata": {
  "kernelspec": {
   "display_name": "Python 3",
   "language": "python",
   "name": "python3"
  },
  "language_info": {
   "codemirror_mode": {
    "name": "ipython",
    "version": 3
   },
   "file_extension": ".py",
   "mimetype": "text/x-python",
   "name": "python",
   "nbconvert_exporter": "python",
   "pygments_lexer": "ipython3",
   "version": "3.6.3"
  }
 },
 "nbformat": 4,
 "nbformat_minor": 2
}
