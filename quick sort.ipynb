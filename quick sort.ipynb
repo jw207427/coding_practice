{
 "cells": [
  {
   "cell_type": "code",
   "execution_count": 31,
   "metadata": {},
   "outputs": [
    {
     "name": "stdout",
     "output_type": "stream",
     "text": [
      "1 1\n",
      "2 2\n",
      "3 3\n",
      "4 6\n",
      "5 7\n",
      "1 2\n",
      "2 3\n",
      "3 4\n",
      "1 2\n",
      "7 7\n"
     ]
    },
    {
     "data": {
      "text/plain": [
       "[1, 2, 3, 4, 5, 6, 7, 8]"
      ]
     },
     "execution_count": 31,
     "metadata": {},
     "output_type": "execute_result"
    }
   ],
   "source": [
    "def quick_sort(A):\n",
    "    return recur(A, 0, len(A)-1)\n",
    "    \n",
    "def recur(A, begin, end):\n",
    "    if begin >= end:\n",
    "        return\n",
    "    pivot= partition(A, begin, end)\n",
    "    recur(A, begin, pivot-1)\n",
    "    recur(A, pivot+1, end)\n",
    "    return A\n",
    "\n",
    "\n",
    "def partition(A, begin, end):\n",
    "    pivot = begin\n",
    "    for i in range(begin+1, end+1):\n",
    "        if A[i] <= A[begin]:\n",
    "            pivot += 1\n",
    "            print(pivot, i)\n",
    "            A[i], A[pivot] = A[pivot], A[i]\n",
    "    A[pivot], A[begin] = A[begin], A[pivot]\n",
    "#     print(A, pivot)\n",
    "    return pivot\n",
    "\n",
    "A = [6, 5, 3,1,8,7,2, 4]\n",
    "quick_sort(A)"
   ]
  },
  {
   "cell_type": "code",
   "execution_count": 28,
   "metadata": {
    "collapsed": true
   },
   "outputs": [],
   "source": []
  },
  {
   "cell_type": "code",
   "execution_count": null,
   "metadata": {
    "collapsed": true
   },
   "outputs": [],
   "source": []
  }
 ],
 "metadata": {
  "kernelspec": {
   "display_name": "Python 3",
   "language": "python",
   "name": "python3"
  },
  "language_info": {
   "codemirror_mode": {
    "name": "ipython",
    "version": 3
   },
   "file_extension": ".py",
   "mimetype": "text/x-python",
   "name": "python",
   "nbconvert_exporter": "python",
   "pygments_lexer": "ipython3",
   "version": "3.6.3"
  }
 },
 "nbformat": 4,
 "nbformat_minor": 2
}
