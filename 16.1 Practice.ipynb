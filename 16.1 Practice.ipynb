{
 "cells": [
  {
   "cell_type": "markdown",
   "metadata": {},
   "source": [
    "16.1 Given a sorted array of positive integers with an empty spot (zero) at the end,\n",
    "insert an element in sorted order."
   ]
  },
  {
   "cell_type": "code",
   "execution_count": 13,
   "metadata": {},
   "outputs": [],
   "source": [
    "#bubble sort\n",
    "A = [1, 4, 6, 8, 9, 10, 11, 20, 0]\n",
    "\n",
    "x = 6"
   ]
  },
  {
   "cell_type": "code",
   "execution_count": 12,
   "metadata": {},
   "outputs": [
    {
     "data": {
      "text/plain": [
       "[1, 4, 6, 6, 8, 9, 10, 11, 20]"
      ]
     },
     "execution_count": 12,
     "metadata": {},
     "output_type": "execute_result"
    }
   ],
   "source": [
    "def insert_blank1(A, x):\n",
    "    if len(A)==0:\n",
    "        return\n",
    "    \n",
    "    index = len(A)-2\n",
    "    while index > 0 and A[index]>x:\n",
    "#         print(index, A[index])\n",
    "        A[index+1] = A[index]\n",
    "        \n",
    "        index -= 1\n",
    "    \n",
    "    A[index+1] = x\n",
    "    return A\n",
    "\n",
    "insert_blank1(A, x)"
   ]
  },
  {
   "cell_type": "code",
   "execution_count": 16,
   "metadata": {},
   "outputs": [
    {
     "name": "stdout",
     "output_type": "stream",
     "text": [
      "6 8\n",
      "8 9\n",
      "9 10\n",
      "10 11\n",
      "11 20\n",
      "20 0\n"
     ]
    },
    {
     "data": {
      "text/plain": [
       "[1, 4, 6, 6, 8, 9, 10, 11, 20]"
      ]
     },
     "execution_count": 16,
     "metadata": {},
     "output_type": "execute_result"
    }
   ],
   "source": [
    "#bubble sort\n",
    "def insert_blank2(A, x):\n",
    "    if len(A)==0:\n",
    "        return\n",
    "    \n",
    "    for i in range(len(A)):\n",
    "        if A[i]>x or A[i]==0:\n",
    "#             print(x, A[i])\n",
    "            temp = A[i]\n",
    "            A[i] =x\n",
    "            x=temp\n",
    "    \n",
    "    return A\n",
    "\n",
    "insert_blank2(A, x)"
   ]
  },
  {
   "cell_type": "code",
   "execution_count": null,
   "metadata": {},
   "outputs": [],
   "source": []
  }
 ],
 "metadata": {
  "kernelspec": {
   "display_name": "Python 3",
   "language": "python",
   "name": "python3"
  },
  "language_info": {
   "codemirror_mode": {
    "name": "ipython",
    "version": 3
   },
   "file_extension": ".py",
   "mimetype": "text/x-python",
   "name": "python",
   "nbconvert_exporter": "python",
   "pygments_lexer": "ipython3",
   "version": "3.6.5"
  }
 },
 "nbformat": 4,
 "nbformat_minor": 2
}
