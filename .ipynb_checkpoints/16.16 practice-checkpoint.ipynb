{
 "cells": [
  {
   "cell_type": "code",
   "execution_count": 19,
   "metadata": {},
   "outputs": [
    {
     "data": {
      "text/plain": [
       "3"
      ]
     },
     "execution_count": 19,
     "metadata": {},
     "output_type": "execute_result"
    }
   ],
   "source": [
    "#16.16 You are given an integer array which was sorted, but then rotated. \n",
    "#It contains all distinct elements. Find the minimum value. For example, \n",
    "#the array might be 6, 8, 9, 11, 15, 20, 3, 4, 5. The minimum value would \n",
    "#obviously be 3.\n",
    "\n",
    "s =[6, 8, 9, 11, 15, 20, 3, 4, 5]\n",
    "\n",
    "def sort_rotated(s):\n",
    "    while s[0] >= s[len(s)-1]:\n",
    "        s.insert(0, s.pop())\n",
    "    \n",
    "    return s[0]\n",
    "\n",
    "sort_rotated(s)"
   ]
  },
  {
   "cell_type": "code",
   "execution_count": 20,
   "metadata": {},
   "outputs": [
    {
     "data": {
      "text/plain": [
       "3"
      ]
     },
     "execution_count": 20,
     "metadata": {},
     "output_type": "execute_result"
    }
   ],
   "source": [
    "def find_min(s, left, right):\n",
    "    \n",
    "    if s[left] < s[right]:\n",
    "        return s[left]\n",
    "    \n",
    "    mid = int(right/2)\n",
    "    \n",
    "    if s[left]> s[mid]:\n",
    "        return find_min(s, left, mid)\n",
    "    else:\n",
    "        return find_min(s, mid+1, right)\n",
    "    \n",
    "find_min(s, 0, len(s)-1)\n",
    "    "
   ]
  },
  {
   "cell_type": "code",
   "execution_count": null,
   "metadata": {
    "collapsed": true
   },
   "outputs": [],
   "source": [
    "\n",
    "def find_min2(S, start, end):\n",
    "    if S[0]< S[len(S)-1]:\n",
    "        return S[0]\n",
    "    \n",
    "    if len(S)<=1:\n",
    "        return S[0]\n",
    "    \n",
    "    mid = len(S)//2\n",
    "    retur"
   ]
  }
 ],
 "metadata": {
  "kernelspec": {
   "display_name": "Python 3",
   "language": "python",
   "name": "python3"
  },
  "language_info": {
   "codemirror_mode": {
    "name": "ipython",
    "version": 3
   },
   "file_extension": ".py",
   "mimetype": "text/x-python",
   "name": "python",
   "nbconvert_exporter": "python",
   "pygments_lexer": "ipython3",
   "version": "3.6.3"
  }
 },
 "nbformat": 4,
 "nbformat_minor": 2
}
