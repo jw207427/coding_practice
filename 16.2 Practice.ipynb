{
 "cells": [
  {
   "cell_type": "code",
   "execution_count": 5,
   "metadata": {},
   "outputs": [
    {
     "data": {
      "text/plain": [
       "[7, 6, 5, 4, 3, 2, 1]"
      ]
     },
     "execution_count": 5,
     "metadata": {},
     "output_type": "execute_result"
    }
   ],
   "source": [
    "# Reverse the order of elemenets in an arrya (without creating a new array)\n",
    "\n",
    "def reverse_array(A):\n",
    "    if not A:\n",
    "        return\n",
    "    \n",
    "    if len(A)<=1:\n",
    "        return A\n",
    "    \n",
    "    head = 0\n",
    "    tail = len(A)-1\n",
    "    \n",
    "    while tail > head:\n",
    "        temp = A[head]\n",
    "        A[head] = A[tail]\n",
    "        A[tail] = temp\n",
    "        \n",
    "        head += 1\n",
    "        tail -= 1\n",
    "    \n",
    "    return A\n",
    "\n",
    "\n",
    "A = [1,2,3,4,5,6, 7]\n",
    "\n",
    "reverse_array(A)"
   ]
  },
  {
   "cell_type": "code",
   "execution_count": null,
   "metadata": {
    "collapsed": true
   },
   "outputs": [],
   "source": []
  }
 ],
 "metadata": {
  "kernelspec": {
   "display_name": "Python 3",
   "language": "python",
   "name": "python3"
  },
  "language_info": {
   "codemirror_mode": {
    "name": "ipython",
    "version": 3
   },
   "file_extension": ".py",
   "mimetype": "text/x-python",
   "name": "python",
   "nbconvert_exporter": "python",
   "pygments_lexer": "ipython3",
   "version": "3.6.3"
  }
 },
 "nbformat": 4,
 "nbformat_minor": 2
}
