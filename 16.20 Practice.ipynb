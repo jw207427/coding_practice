{
 "cells": [
  {
   "cell_type": "code",
   "execution_count": 30,
   "metadata": {},
   "outputs": [
    {
     "name": "stdout",
     "output_type": "stream",
     "text": [
      "abc\n",
      "acb\n",
      "bac\n",
      "bca\n",
      "cab\n",
      "cba\n"
     ]
    }
   ],
   "source": [
    "#16.20 Given a string, print all permutations of that string. You can assume the word\n",
    "#does not have any duplicate characters.\n",
    "\n",
    "def perm(start, char):\n",
    "    if not char:\n",
    "        print(start)\n",
    "        \n",
    "    for i in range(len(char)):\n",
    "        #print('prefix: ',start+char[i])\n",
    "        #print('remainning: ', char[0:i]+char[i+1:])\n",
    "        perm(start+char[i], char[0:i]+char[i+1:])\n",
    "words = 'abc'\n",
    "char = list(words)\n",
    "perm('',char)"
   ]
  },
  {
   "cell_type": "code",
   "execution_count": 9,
   "metadata": {},
   "outputs": [
    {
     "name": "stdout",
     "output_type": "stream",
     "text": [
      "final: abcd\n",
      "final: abdc\n",
      "final: acbd\n",
      "final: acdb\n",
      "final: adbc\n",
      "final: adcb\n",
      "final: bacd\n",
      "final: badc\n",
      "final: bcad\n",
      "final: bcda\n",
      "final: bdac\n",
      "final: bdca\n",
      "final: cabd\n",
      "final: cadb\n",
      "final: cbad\n",
      "final: cbda\n",
      "final: cdab\n",
      "final: cdba\n",
      "final: dabc\n",
      "final: dacb\n",
      "final: dbac\n",
      "final: dbca\n",
      "final: dcab\n",
      "final: dcba\n"
     ]
    }
   ],
   "source": [
    "def perm2(start, char):\n",
    "    if len(char)<1:\n",
    "        print('final:' ,start)\n",
    "    \n",
    "    for i in range(len(char)):\n",
    "        perm2(start+char[i], char[:i]+char[i+1:])\n",
    "        \n",
    "words = 'abcd'\n",
    "perm2('',words)"
   ]
  },
  {
   "cell_type": "code",
   "execution_count": null,
   "metadata": {
    "collapsed": true
   },
   "outputs": [],
   "source": []
  }
 ],
 "metadata": {
  "kernelspec": {
   "display_name": "Python 3",
   "language": "python",
   "name": "python3"
  },
  "language_info": {
   "codemirror_mode": {
    "name": "ipython",
    "version": 3
   },
   "file_extension": ".py",
   "mimetype": "text/x-python",
   "name": "python",
   "nbconvert_exporter": "python",
   "pygments_lexer": "ipython3",
   "version": "3.6.3"
  }
 },
 "nbformat": 4,
 "nbformat_minor": 2
}
