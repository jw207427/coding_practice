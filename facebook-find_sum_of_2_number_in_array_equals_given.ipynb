{
 "cells": [
  {
   "cell_type": "code",
   "execution_count": 7,
   "metadata": {},
   "outputs": [
    {
     "data": {
      "text/plain": [
       "(3, 3)"
      ]
     },
     "execution_count": 7,
     "metadata": {},
     "output_type": "execute_result"
    }
   ],
   "source": [
    "def find_sum_given(A, x):\n",
    "    if not A or len(A)==0:\n",
    "        return\n",
    "    \n",
    "    if not x:\n",
    "        return\n",
    "    \n",
    "    for a in A:\n",
    "        pair = x-a\n",
    "        if pair in A:\n",
    "            return (a, pair)\n",
    "        \n",
    "    return\n",
    "\n",
    "A = [3, 6, 8, 3, -2,0]\n",
    "\n",
    "x =6\n",
    "\n",
    "find_sum_given(A, x)"
   ]
  },
  {
   "cell_type": "code",
   "execution_count": null,
   "metadata": {},
   "outputs": [],
   "source": []
  }
 ],
 "metadata": {
  "kernelspec": {
   "display_name": "Python 3",
   "language": "python",
   "name": "python3"
  },
  "language_info": {
   "codemirror_mode": {
    "name": "ipython",
    "version": 3
   },
   "file_extension": ".py",
   "mimetype": "text/x-python",
   "name": "python",
   "nbconvert_exporter": "python",
   "pygments_lexer": "ipython3",
   "version": "3.6.5"
  }
 },
 "nbformat": 4,
 "nbformat_minor": 2
}
