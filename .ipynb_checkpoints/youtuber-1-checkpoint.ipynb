{
 "cells": [
  {
   "cell_type": "code",
   "execution_count": 18,
   "metadata": {},
   "outputs": [],
   "source": [
    "#a number from each array that adds up to target\n",
    "a = [-1,3,8,2,9,5]\n",
    "b = [4,1,2,10,5,20]\n",
    "\n",
    "target = 24"
   ]
  },
  {
   "cell_type": "code",
   "execution_count": 26,
   "metadata": {},
   "outputs": [
    {
     "name": "stdout",
     "output_type": "stream",
     "text": [
      "[-1, 2, 3, 5, 8, 9]\n",
      "[1, 2, 4, 5, 10, 20]\n",
      "9 1\n",
      "9 2\n",
      "9 4\n",
      "9 5\n",
      "9 10\n",
      "9 20\n",
      "8 20\n",
      "5 20\n",
      "3 20\n",
      "{14: (9, 1), 13: (9, 2), 11: (9, 4), 10: (9, 5), 5: (9, 20), 4: (8, 20), 1: (3, 20)}\n"
     ]
    }
   ],
   "source": [
    "#sort arrays\n",
    "a = sorted(a)\n",
    "b = sorted(b)\n",
    "# a start from large to small\n",
    "# b start from small to large\n",
    "#if value to big reduce a, if value too samll increase b\n",
    "print(a)\n",
    "print(b)\n",
    "a_i = len(a)-1\n",
    "b_i = 0\n",
    "\n",
    "result = {}\n",
    "while (a_i >= 0 and b_i < len(b)):\n",
    "    print(a[a_i], b[b_i])\n",
    "    if (a[a_i]+b[b_i] == target):\n",
    "        result[0]=(a[a_i], b[b_i])\n",
    "        break\n",
    "    elif (a[a_i]+b[b_i] > target): #reduce a_i\n",
    "        dif = abs(a[a_i]+b[b_i] - target)\n",
    "        result[dif] = (a[a_i], b[b_i])\n",
    "        a_i = a_i-1\n",
    "    elif (a[a_i]+b[b_i] < target): # increase b_i\n",
    "        dif = abs(a[a_i]+b[b_i] - target)\n",
    "        result[dif] = (a[a_i], b[b_i])\n",
    "        b_i += 1\n",
    "    \n",
    "print(result)"
   ]
  },
  {
   "cell_type": "code",
   "execution_count": null,
   "metadata": {},
   "outputs": [],
   "source": []
  },
  {
   "cell_type": "code",
   "execution_count": null,
   "metadata": {},
   "outputs": [],
   "source": []
  },
  {
   "cell_type": "code",
   "execution_count": null,
   "metadata": {},
   "outputs": [],
   "source": []
  }
 ],
 "metadata": {
  "kernelspec": {
   "display_name": "Python 3",
   "language": "python",
   "name": "python3"
  },
  "language_info": {
   "codemirror_mode": {
    "name": "ipython",
    "version": 3
   },
   "file_extension": ".py",
   "mimetype": "text/x-python",
   "name": "python",
   "nbconvert_exporter": "python",
   "pygments_lexer": "ipython3",
   "version": "3.6.5"
  }
 },
 "nbformat": 4,
 "nbformat_minor": 2
}
