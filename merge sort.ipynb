{
 "cells": [
  {
   "cell_type": "code",
   "execution_count": 26,
   "metadata": {},
   "outputs": [
    {
     "data": {
      "text/plain": [
       "[1, 2, 3, 4, 5, 6, 7, 8]"
      ]
     },
     "execution_count": 26,
     "metadata": {},
     "output_type": "execute_result"
    }
   ],
   "source": [
    "def merge_sort(A):\n",
    "    if len(A)>1:\n",
    "        mid = len(A)//2\n",
    "#         print(len(A), mid)\n",
    "        left = A[0:mid]\n",
    "#         print(left)\n",
    "        right = A[mid:]\n",
    "#         print(right)\n",
    "        merge_sort(left)\n",
    "        merge_sort(right)\n",
    "        \n",
    "        i = 0\n",
    "        j = 0\n",
    "        while i<len(left) and j<len(right):\n",
    "            if left[i]<right[j]:\n",
    "                A[i+j] = left[i]\n",
    "                i+=1\n",
    "            else:\n",
    "                A[i+j] = right[j]\n",
    "                j+=1\n",
    "        \n",
    "        while i<len(left):\n",
    "            A[i+j] = left[i]\n",
    "            i+=1\n",
    "            \n",
    "        while j<len(right):\n",
    "            A[i+j] = right[j]\n",
    "            j+=1\n",
    "    return A\n",
    "A = [6, 5, 3, 1,8,7,2, 4]\n",
    "merge_sort(A)"
   ]
  },
  {
   "cell_type": "code",
   "execution_count": null,
   "metadata": {},
   "outputs": [],
   "source": []
  },
  {
   "cell_type": "code",
   "execution_count": null,
   "metadata": {},
   "outputs": [],
   "source": []
  },
  {
   "cell_type": "code",
   "execution_count": null,
   "metadata": {},
   "outputs": [],
   "source": []
  }
 ],
 "metadata": {
  "kernelspec": {
   "display_name": "Python 3",
   "language": "python",
   "name": "python3"
  },
  "language_info": {
   "codemirror_mode": {
    "name": "ipython",
    "version": 3
   },
   "file_extension": ".py",
   "mimetype": "text/x-python",
   "name": "python",
   "nbconvert_exporter": "python",
   "pygments_lexer": "ipython3",
   "version": "3.6.5"
  }
 },
 "nbformat": 4,
 "nbformat_minor": 2
}
