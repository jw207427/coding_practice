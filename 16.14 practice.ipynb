{
 "cells": [
  {
   "cell_type": "code",
   "execution_count": 34,
   "metadata": {},
   "outputs": [
    {
     "name": "stdout",
     "output_type": "stream",
     "text": [
      "9 0\n",
      "[9, 8, 7, 6, 5]\n",
      "8 1\n",
      "[8, 9, 7, 6, 5]\n",
      "7 2\n",
      "[7, 8, 9, 6, 5]\n",
      "6 3\n",
      "[6, 7, 8, 9, 5]\n",
      "5 4\n",
      "[5, 6, 7, 8, 9]\n"
     ]
    },
    {
     "data": {
      "text/plain": [
       "[5, 6, 7, 8, 9]"
      ]
     },
     "execution_count": 34,
     "metadata": {},
     "output_type": "execute_result"
    }
   ],
   "source": [
    "#16.14 Implement insertion sort. Insertion sort operates by iterating \n",
    "#through the array, inserting each  element in order on the element’s left side\n",
    "# O(n^2) time\n",
    "A = [9,8,7,6,5]\n",
    "\n",
    "def insertion_sort(A):\n",
    "    for i in range(len(A)):\n",
    "        x = A[i]\n",
    "        pos = i\n",
    "        print(x,pos)\n",
    "        while pos>0 and A[pos-1]>x:\n",
    "#             print(pos-1)\n",
    "            A[pos]=A[pos-1]\n",
    "            pos-=1\n",
    "            \n",
    "        A[pos] = x\n",
    "        print(A)\n",
    "        \n",
    "    return A\n",
    "    \n",
    "insertion_sort(A)"
   ]
  },
  {
   "cell_type": "code",
   "execution_count": 2,
   "metadata": {},
   "outputs": [
    {
     "data": {
      "text/plain": [
       "[5, 6, 7, 8, 9, 10, 11, 12, 13]"
      ]
     },
     "execution_count": 2,
     "metadata": {},
     "output_type": "execute_result"
    }
   ],
   "source": [
    "def insert_sort(A):\n",
    "    for i in range(1, len(A)):\n",
    "        cur = A[i]\n",
    "        pos = i\n",
    "        while pos>0 and A[pos-1]>cur:\n",
    "            A[pos] = A[pos-1]\n",
    "            pos-=1\n",
    "        \n",
    "        A[pos] = cur\n",
    "    return A\n",
    "\n",
    "A = [9,8,7,6,5, 11, 13, 12, 10]\n",
    "insert_sort(A)"
   ]
  },
  {
   "cell_type": "code",
   "execution_count": null,
   "metadata": {
    "collapsed": true
   },
   "outputs": [],
   "source": []
  }
 ],
 "metadata": {
  "kernelspec": {
   "display_name": "Python 3",
   "language": "python",
   "name": "python3"
  },
  "language_info": {
   "codemirror_mode": {
    "name": "ipython",
    "version": 3
   },
   "file_extension": ".py",
   "mimetype": "text/x-python",
   "name": "python",
   "nbconvert_exporter": "python",
   "pygments_lexer": "ipython3",
   "version": "3.6.3"
  }
 },
 "nbformat": 4,
 "nbformat_minor": 2
}
