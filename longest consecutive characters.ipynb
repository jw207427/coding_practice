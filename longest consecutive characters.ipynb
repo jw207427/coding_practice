{
 "cells": [
  {
   "cell_type": "code",
   "execution_count": 8,
   "metadata": {},
   "outputs": [
    {
     "data": {
      "text/plain": [
       "{'E': 6}"
      ]
     },
     "execution_count": 8,
     "metadata": {},
     "output_type": "execute_result"
    }
   ],
   "source": [
    "#retunr the longest consecutive characters in a dict\n",
    "A = 'AAABCDDBBBEEEEEEA'\n",
    "\n",
    "def longest_consect(A):\n",
    "    index = 0\n",
    "    \n",
    "    letter = None\n",
    "    max_count = 0\n",
    "    while index < len(A):\n",
    "#         print(A[index], index)\n",
    "        a, index, count = recur(A, A[index], index, 0)\n",
    "        \n",
    "        if count > max_count:\n",
    "            max_count = count\n",
    "            letter = a\n",
    "        \n",
    "    return {letter: max_count}\n",
    "    \n",
    "\n",
    "def recur(A, a, i, count):\n",
    "    if i>=len(A):\n",
    "        return a, i, count\n",
    "    \n",
    "    if a != A[i]:\n",
    "        return a, i, count\n",
    "    return recur(A, a, i+1, count+1)\n",
    "    \n",
    "longest_consect(A)"
   ]
  },
  {
   "cell_type": "code",
   "execution_count": 9,
   "metadata": {},
   "outputs": [
    {
     "data": {
      "text/plain": [
       "{'E': 6}"
      ]
     },
     "execution_count": 9,
     "metadata": {},
     "output_type": "execute_result"
    }
   ],
   "source": [
    "#loop solution\n",
    "\n",
    "def longest(A):\n",
    "    pre_char = ''\n",
    "    max_char =''\n",
    "    max_count = 0\n",
    "    count = 0\n",
    "    \n",
    "    for a in A:\n",
    "        if a==pre_char:\n",
    "            count +=1\n",
    "        else:\n",
    "            count =1\n",
    "        \n",
    "        if count > max_count:\n",
    "            max_char = a\n",
    "            max_count = count\n",
    "        pre_char = a\n",
    "    \n",
    "    return {max_char:max_count}\n",
    "\n",
    "longest(A)"
   ]
  },
  {
   "cell_type": "code",
   "execution_count": 2,
   "metadata": {},
   "outputs": [
    {
     "data": {
      "text/plain": [
       "9"
      ]
     },
     "execution_count": 2,
     "metadata": {},
     "output_type": "execute_result"
    }
   ],
   "source": [
    "#improved\n",
    "\n",
    "def consec_char(s):\n",
    "    \n",
    "    longest =1\n",
    "    pre_char = s[0]\n",
    "    count = 1\n",
    "    \n",
    "    for i in range(1, len(s)):\n",
    "        if s[i] == pre_char:\n",
    "            count += 1\n",
    "        else:\n",
    "            pre_char = s[i]\n",
    "            count = 1\n",
    "            \n",
    "        if count > longest:\n",
    "            longest = count\n",
    "            \n",
    "    return longest\n",
    "\n",
    "A = 'AAABCDDBBBBBBBBBEEEEEEA'\n",
    "consec_char(A)"
   ]
  },
  {
   "cell_type": "code",
   "execution_count": null,
   "metadata": {
    "collapsed": true
   },
   "outputs": [],
   "source": []
  }
 ],
 "metadata": {
  "kernelspec": {
   "display_name": "Python 3",
   "language": "python",
   "name": "python3"
  },
  "language_info": {
   "codemirror_mode": {
    "name": "ipython",
    "version": 3
   },
   "file_extension": ".py",
   "mimetype": "text/x-python",
   "name": "python",
   "nbconvert_exporter": "python",
   "pygments_lexer": "ipython3",
   "version": "3.6.3"
  }
 },
 "nbformat": 4,
 "nbformat_minor": 2
}
