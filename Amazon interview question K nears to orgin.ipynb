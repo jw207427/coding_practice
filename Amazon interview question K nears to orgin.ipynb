{
 "cells": [
  {
   "cell_type": "code",
   "execution_count": 5,
   "metadata": {},
   "outputs": [
    {
     "data": {
      "text/plain": [
       "[[(-1, 0)], [(0, -2)], [(-2, -3), (3, 2)], [(-2, 4)]]"
      ]
     },
     "execution_count": 5,
     "metadata": {},
     "output_type": "execute_result"
    }
   ],
   "source": [
    "#sorting method\n",
    "A = [(-2,4), (0,-2), (-1,0), (3,5), (-2,-3), (3,2)]\n",
    "\n",
    "k = 4\n",
    "def closest_k(A, k):\n",
    "    #loop through and store distance\n",
    "    d = {}\n",
    "    for a in A:\n",
    "        distance = (a[0]**2+a[1]**2)\n",
    "        if distance not in d:\n",
    "            d[distance] = []\n",
    "        d[distance].append(a)\n",
    "        \n",
    "    output = []\n",
    "    for key in sorted(d.keys()):   #sort O(nlogn)\n",
    "        output.append(d[key])\n",
    "        \n",
    "    return output[:k]\n",
    "\n",
    "\n",
    "closest_k(A, k)    \n",
    "    "
   ]
  },
  {
   "cell_type": "code",
   "execution_count": 18,
   "metadata": {},
   "outputs": [
    {
     "name": "stdout",
     "output_type": "stream",
     "text": [
      "[4, 2, 3, 1]\n"
     ]
    }
   ],
   "source": [
    "def MaxHeapify(arr, i, n): \n",
    "    l = 2 * i + 1\n",
    "    r = 2 * i + 2\n",
    "    largest = i  \n",
    "    if l < n and arr[l] > arr[i]:  \n",
    "        largest = l \n",
    "    if r < n and arr[r] > arr[largest]:  \n",
    "        largest = r  \n",
    "    if largest != i: \n",
    "        arr[i], arr[largest] = arr[largest], arr[i]  \n",
    "        MaxHeapify(arr, largest, n) \n",
    "\n",
    "\n",
    "# This function basically builds max heap  \n",
    "def convertMaxHeap(arr, n): \n",
    "      \n",
    "    # Start from bottommost and rightmost  \n",
    "    # internal mode and heapify all  \n",
    "    # internal modes in bottom up way  \n",
    "    for i in range(int((n - 2) / 2), -1, -1): \n",
    "        MaxHeapify(arr, i, n)\n",
    "        \n",
    "A = [1, 2, 3,4]\n",
    "\n",
    "convertMaxHeap(A, len(A))\n",
    "\n",
    "print(A)"
   ]
  },
  {
   "cell_type": "code",
   "execution_count": null,
   "metadata": {},
   "outputs": [],
   "source": []
  }
 ],
 "metadata": {
  "kernelspec": {
   "display_name": "Python 3",
   "language": "python",
   "name": "python3"
  },
  "language_info": {
   "codemirror_mode": {
    "name": "ipython",
    "version": 3
   },
   "file_extension": ".py",
   "mimetype": "text/x-python",
   "name": "python",
   "nbconvert_exporter": "python",
   "pygments_lexer": "ipython3",
   "version": "3.6.5"
  }
 },
 "nbformat": 4,
 "nbformat_minor": 2
}
