{
 "cells": [
  {
   "cell_type": "code",
   "execution_count": 1,
   "metadata": {},
   "outputs": [],
   "source": [
    "#16.10 Write a function which removes all the even numbers from a stack. \n",
    "#You should return the original stack, not a new one.\n",
    "class stack:\n",
    "    def __init__(self):\n",
    "        self.items = []\n",
    "\n",
    "    def isEmpty(self):\n",
    "        return len(self.items)==0\n",
    "    \n",
    "    def push(self, value):\n",
    "        self.items.append(value)\n",
    "        \n",
    "    def pop(self):\n",
    "        return self.items.pop()\n",
    "    \n",
    "    def peek(self):\n",
    "        return self.items[len(self.items)-1]\n",
    "    \n",
    "    def length(self):\n",
    "        return len(self.items)\n",
    "    \n",
    "    def display(self):\n",
    "        new_stack = stack()\n",
    "        for x in range(self.length()):\n",
    "            new_stack.push(self.peek())\n",
    "            print(self.pop())\n",
    "        \n",
    "        for x in range(new_stack.length()):\n",
    "            s.push(new_stack.pop())"
   ]
  },
  {
   "cell_type": "code",
   "execution_count": 3,
   "metadata": {},
   "outputs": [
    {
     "name": "stdout",
     "output_type": "stream",
     "text": [
      "6\n",
      "5\n",
      "4\n",
      "2\n",
      "2\n",
      "1\n",
      "6\n",
      "4\n",
      "2\n",
      "2\n"
     ]
    }
   ],
   "source": [
    "#this process is O(n) run time\n",
    "def return_even(s):\n",
    "    temp = stack()\n",
    "    \n",
    "    #pop the even number into a temp stack\n",
    "    for i in range(s.length()):\n",
    "        if s.peek()%2==0:\n",
    "            temp.push(s.pop())\n",
    "        else:\n",
    "            s.pop()\n",
    "            \n",
    "    #put the even numbers back to the original\n",
    "    for j in range(temp.length()):\n",
    "        s.push(temp.pop())\n",
    "    \n",
    "    return s\n",
    "\n",
    "s = stack()\n",
    "s.push(1)\n",
    "s.push(2)\n",
    "s.push(2)\n",
    "s.push(4)\n",
    "s.push(5)\n",
    "s.push(6)\n",
    "\n",
    "s.display()\n",
    "\n",
    "s = return_even(s)\n",
    "s.display()"
   ]
  },
  {
   "cell_type": "code",
   "execution_count": null,
   "metadata": {},
   "outputs": [],
   "source": []
  }
 ],
 "metadata": {
  "kernelspec": {
   "display_name": "Python 3",
   "language": "python",
   "name": "python3"
  },
  "language_info": {
   "codemirror_mode": {
    "name": "ipython",
    "version": 3
   },
   "file_extension": ".py",
   "mimetype": "text/x-python",
   "name": "python",
   "nbconvert_exporter": "python",
   "pygments_lexer": "ipython3",
   "version": "3.6.5"
  }
 },
 "nbformat": 4,
 "nbformat_minor": 2
}
