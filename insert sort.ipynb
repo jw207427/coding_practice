{
 "cells": [
  {
   "cell_type": "code",
   "execution_count": 10,
   "metadata": {},
   "outputs": [
    {
     "data": {
      "text/plain": [
       "[1, 2, 3, 4, 5, 6, 7, 8]"
      ]
     },
     "execution_count": 10,
     "metadata": {},
     "output_type": "execute_result"
    }
   ],
   "source": [
    "def insertion_sort(A):\n",
    "    for i in range(1,len(A)):\n",
    "        cur = A[i]\n",
    "        pos = i\n",
    "\n",
    "        while pos>0 and A[pos-1]>cur:\n",
    "            A[pos]=A[pos-1]\n",
    "            pos = pos-1\n",
    "\n",
    "        A[pos]=cur\n",
    "    \n",
    "    return A\n",
    "\n",
    "A = [6, 5, 3,1,8,7,2, 4]\n",
    "insertion_sort(A)\n",
    "# print(A)"
   ]
  },
  {
   "cell_type": "code",
   "execution_count": null,
   "metadata": {
    "collapsed": true
   },
   "outputs": [],
   "source": []
  },
  {
   "cell_type": "code",
   "execution_count": null,
   "metadata": {
    "collapsed": true
   },
   "outputs": [],
   "source": []
  }
 ],
 "metadata": {
  "kernelspec": {
   "display_name": "Python 3",
   "language": "python",
   "name": "python3"
  },
  "language_info": {
   "codemirror_mode": {
    "name": "ipython",
    "version": 3
   },
   "file_extension": ".py",
   "mimetype": "text/x-python",
   "name": "python",
   "nbconvert_exporter": "python",
   "pygments_lexer": "ipython3",
   "version": "3.6.3"
  }
 },
 "nbformat": 4,
 "nbformat_minor": 2
}
