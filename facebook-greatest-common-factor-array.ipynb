{
 "cells": [
  {
   "cell_type": "code",
   "execution_count": 30,
   "metadata": {},
   "outputs": [
    {
     "name": "stdout",
     "output_type": "stream",
     "text": [
      "None\n"
     ]
    }
   ],
   "source": [
    "def gcf(a, b):\n",
    "    if not a or not b:\n",
    "        return\n",
    "    \n",
    "    if a<=0 or b<=0:\n",
    "        return\n",
    "\n",
    "    if b!=0:\n",
    "        return gcf(b, a%b)\n",
    "    else:\n",
    "        return a\n",
    "    \n",
    "print(gcf(35, 15))    "
   ]
  },
  {
   "cell_type": "code",
   "execution_count": 32,
   "metadata": {},
   "outputs": [],
   "source": [
    "def gcf_array(A):\n",
    "    if not A or len(A)==0:\n",
    "        return\n",
    "    \n",
    "    if len(A)==1:\n",
    "        return A[0]\n",
    "    \n",
    "    gcf_value = gcf(A[0], A[1])\n",
    "    \n",
    "    for i in range(2, len(A)):\n",
    "        gcf_value = gcf(gcf_value, A[i])\n",
    "        \n",
    "    return gcf_value\n",
    "\n",
    "A = [40, 16, 24, 120, 32, -8]\n",
    "\n",
    "gcf_array(A)\n",
    "    \n",
    "    "
   ]
  },
  {
   "cell_type": "code",
   "execution_count": null,
   "metadata": {},
   "outputs": [],
   "source": []
  }
 ],
 "metadata": {
  "kernelspec": {
   "display_name": "Python 3",
   "language": "python",
   "name": "python3"
  },
  "language_info": {
   "codemirror_mode": {
    "name": "ipython",
    "version": 3
   },
   "file_extension": ".py",
   "mimetype": "text/x-python",
   "name": "python",
   "nbconvert_exporter": "python",
   "pygments_lexer": "ipython3",
   "version": "3.6.5"
  }
 },
 "nbformat": 4,
 "nbformat_minor": 2
}
