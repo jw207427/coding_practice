{
 "cells": [
  {
   "cell_type": "markdown",
   "metadata": {},
   "source": [
    "16.21 In a group of people, a person is called a “celebrity” if everyone knows them\n",
    "but they know no one else. You are given a function knows(a, b) which tells you if\n",
    "person a knows person b. Design an algorithm to find the celebrity (if one exists).\n",
    "For simplicity, you can assume that everyone is given a label from 0 to N-1. You need\n",
    "to implement a function int findCelebrity(int N).\n"
   ]
  },
  {
   "cell_type": "code",
   "execution_count": 16,
   "metadata": {},
   "outputs": [
    {
     "name": "stdout",
     "output_type": "stream",
     "text": [
      "{0: 6, 1: 10, 2: 5, 3: 4, 4: 8, 5: 9, 6: 6, 7: 6, 8: 7, 9: 7, 11: 8}\n"
     ]
    },
    {
     "data": {
      "text/plain": [
       "10"
      ]
     },
     "execution_count": 16,
     "metadata": {},
     "output_type": "execute_result"
    }
   ],
   "source": [
    "import random\n",
    "\n",
    "def knows(a, b):\n",
    "    celeb = 10\n",
    "    if a == celeb:\n",
    "        return 0\n",
    "    elif b==celeb:\n",
    "        return 1\n",
    "    else:\n",
    "        return random.randrange(2)\n",
    "\n",
    "#O(n^2)\n",
    "def find_celebrity(n):\n",
    "    celeb = 0\n",
    "    relation = {}\n",
    "    for x in range(n):\n",
    "        for y in range(n):\n",
    "            k = knows(x,y)\n",
    "            if k==1:\n",
    "                if x not in relation:\n",
    "                    relation[x] = 0\n",
    "                relation[x]+=1\n",
    "    \n",
    "    print(relation)\n",
    "    for x in range(n):\n",
    "        if x not in relation:\n",
    "            celeb = x\n",
    "    return celeb\n",
    "\n",
    "find_celebrity(12)\n"
   ]
  },
  {
   "cell_type": "code",
   "execution_count": 17,
   "metadata": {},
   "outputs": [
    {
     "data": {
      "text/plain": [
       "10"
      ]
     },
     "execution_count": 17,
     "metadata": {},
     "output_type": "execute_result"
    }
   ],
   "source": [
    "#O(n)\n",
    "def find_celebrity(n):\n",
    "    candidate = find_candidate(n)\n",
    "    \n",
    "    for j in n:\n",
    "        if j != candidate:\n",
    "            if knows(canddiate, j) or not knows(j, candidate):\n",
    "                return -1\n",
    "    \n",
    "    return candidate\n",
    "\n",
    "    \n",
    "    \n",
    "def find_candidate(n):\n",
    "    candidate = 0\n",
    "    for i in range(1, n):\n",
    "        if knows(candidate, i):\n",
    "            candidate = i\n",
    "            \n",
    "    return candidate\n",
    "    \n",
    "find_candidate(12)"
   ]
  },
  {
   "cell_type": "code",
   "execution_count": null,
   "metadata": {
    "collapsed": true
   },
   "outputs": [],
   "source": [
    "\n"
   ]
  },
  {
   "cell_type": "code",
   "execution_count": null,
   "metadata": {},
   "outputs": [],
   "source": []
  },
  {
   "cell_type": "code",
   "execution_count": null,
   "metadata": {
    "collapsed": true
   },
   "outputs": [],
   "source": []
  }
 ],
 "metadata": {
  "kernelspec": {
   "display_name": "Python 3",
   "language": "python",
   "name": "python3"
  },
  "language_info": {
   "codemirror_mode": {
    "name": "ipython",
    "version": 3
   },
   "file_extension": ".py",
   "mimetype": "text/x-python",
   "name": "python",
   "nbconvert_exporter": "python",
   "pygments_lexer": "ipython3",
   "version": "3.6.3"
  }
 },
 "nbformat": 4,
 "nbformat_minor": 2
}
