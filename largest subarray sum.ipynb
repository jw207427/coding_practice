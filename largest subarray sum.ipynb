{
 "cells": [
  {
   "cell_type": "code",
   "execution_count": 7,
   "metadata": {},
   "outputs": [
    {
     "name": "stdout",
     "output_type": "stream",
     "text": [
      "0 0\n",
      "1 1\n",
      "2 0\n",
      "3 7\n",
      "4 22\n",
      "5 19\n",
      "6 27\n"
     ]
    },
    {
     "data": {
      "text/plain": [
       "(27, [7, 15, -3, 8])"
      ]
     },
     "execution_count": 7,
     "metadata": {},
     "output_type": "execute_result"
    }
   ],
   "source": [
    "A = [1, -6, 7, 15, -3, 8, -6]\n",
    "\n",
    "def largest_sum(A):\n",
    "    total_sum = 0\n",
    "    largest = -2**100\n",
    "    start = 0\n",
    "    end = len(A)-1\n",
    "    for i in range(len(A)):\n",
    "        print(i, total_sum)\n",
    "        total_sum +=A[i]\n",
    "        if total_sum < 0:\n",
    "            total_sum=0\n",
    "            start = i+1\n",
    "        if total_sum > largest:\n",
    "            largest = total_sum\n",
    "            end = i+1\n",
    "    \n",
    "    return largest, A[start:end]\n",
    "\n",
    "largest_sum(A)\n",
    "        "
   ]
  },
  {
   "cell_type": "code",
   "execution_count": null,
   "metadata": {},
   "outputs": [],
   "source": []
  }
 ],
 "metadata": {
  "kernelspec": {
   "display_name": "Python 3",
   "language": "python",
   "name": "python3"
  },
  "language_info": {
   "codemirror_mode": {
    "name": "ipython",
    "version": 3
   },
   "file_extension": ".py",
   "mimetype": "text/x-python",
   "name": "python",
   "nbconvert_exporter": "python",
   "pygments_lexer": "ipython3",
   "version": "3.6.5"
  }
 },
 "nbformat": 4,
 "nbformat_minor": 2
}
