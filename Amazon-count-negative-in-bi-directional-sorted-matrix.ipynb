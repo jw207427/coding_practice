{
 "cells": [
  {
   "cell_type": "code",
   "execution_count": 17,
   "metadata": {
    "collapsed": true
   },
   "outputs": [],
   "source": [
    "#count number of negative values\n",
    "matrix = [[-3,-2,-1,1],\n",
    "         [-2,-2,3,4],\n",
    "         [-1,5,7,8]]\n"
   ]
  },
  {
   "cell_type": "code",
   "execution_count": 18,
   "metadata": {},
   "outputs": [
    {
     "data": {
      "text/plain": [
       "6"
      ]
     },
     "execution_count": 18,
     "metadata": {},
     "output_type": "execute_result"
    }
   ],
   "source": [
    "#brute force O(m*n)\n",
    "def bf_count_negative(matrix):\n",
    "    counter = 0\n",
    "    for row in matrix:\n",
    "        for x in row:\n",
    "            if x<0:\n",
    "                counter+=1\n",
    "    \n",
    "    return counter\n",
    "\n",
    "bf_count_negative(matrix)\n",
    "            "
   ]
  },
  {
   "cell_type": "code",
   "execution_count": 23,
   "metadata": {},
   "outputs": [
    {
     "data": {
      "text/plain": [
       "6"
      ]
     },
     "execution_count": 23,
     "metadata": {},
     "output_type": "execute_result"
    }
   ],
   "source": [
    "#strat from the end of first row O(m+n)\n",
    "def count_negative(matrix):\n",
    "    \n",
    "    count = 0\n",
    "    cols = len(matrix[0])\n",
    "    rows = len(matrix)\n",
    "    \n",
    "    i = 0\n",
    "    j = cols-1\n",
    "    \n",
    "    while j>=0 and i<rows:\n",
    "        if matrix[i][j]<0:\n",
    "            count+=j+1\n",
    "            i+=1\n",
    "        else:\n",
    "            j-=1\n",
    "                \n",
    "    return count\n",
    "\n",
    "count_negative(matrix)"
   ]
  },
  {
   "cell_type": "code",
   "execution_count": null,
   "metadata": {
    "collapsed": true
   },
   "outputs": [],
   "source": []
  }
 ],
 "metadata": {
  "kernelspec": {
   "display_name": "Python 3",
   "language": "python",
   "name": "python3"
  },
  "language_info": {
   "codemirror_mode": {
    "name": "ipython",
    "version": 3
   },
   "file_extension": ".py",
   "mimetype": "text/x-python",
   "name": "python",
   "nbconvert_exporter": "python",
   "pygments_lexer": "ipython3",
   "version": "3.6.3"
  }
 },
 "nbformat": 4,
 "nbformat_minor": 2
}
