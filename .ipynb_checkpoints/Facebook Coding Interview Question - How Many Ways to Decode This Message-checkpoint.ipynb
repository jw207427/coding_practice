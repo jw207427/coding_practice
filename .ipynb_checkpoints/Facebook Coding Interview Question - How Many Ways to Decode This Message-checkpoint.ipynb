{
 "cells": [
  {
   "cell_type": "code",
   "execution_count": 2,
   "metadata": {},
   "outputs": [],
   "source": [
    "#Given mapping below write a function to determine the number of ways to decode a message\n",
    "data_hash = {\n",
    "    'a':1,\n",
    "    'b':2,\n",
    "    'c':3,\n",
    "    'd':4,\n",
    "    'e':5,\n",
    "    'f':6,\n",
    "    'g':7,\n",
    "    'h':8,\n",
    "    'i':9,\n",
    "    'j':10,\n",
    "    'k':11,\n",
    "    'l':12,\n",
    "    'm':13,\n",
    "    'n':14,\n",
    "    'o':15,\n",
    "    'p':16,\n",
    "    'q':17,\n",
    "    'r':18,\n",
    "    's':19,\n",
    "    't':20,\n",
    "    'u':21,\n",
    "    'v':22,\n",
    "    'w':23,\n",
    "    'x':24,\n",
    "    'y':25,\n",
    "    'z':26\n",
    "}"
   ]
  },
  {
   "cell_type": "code",
   "execution_count": 60,
   "metadata": {},
   "outputs": [
    {
     "name": "stdout",
     "output_type": "stream",
     "text": [
      "loop\n",
      "loop\n",
      "loop\n",
      "loop\n",
      "loop\n",
      "loop\n",
      "loop\n",
      "loop\n",
      "loop\n",
      "loop\n",
      "loop\n",
      "loop\n",
      "loop\n",
      "loop\n",
      "loop\n",
      "loop\n",
      "loop\n",
      "loop\n",
      "loop\n",
      "loop\n",
      "loop\n",
      "loop\n",
      "loop\n",
      "loop\n",
      "loop\n",
      "loop\n",
      "loop\n",
      "loop\n",
      "loop\n",
      "loop\n",
      "loop\n",
      "loop\n",
      "loop\n"
     ]
    },
    {
     "data": {
      "text/plain": [
       "13"
      ]
     },
     "execution_count": 60,
     "metadata": {},
     "output_type": "execute_result"
    }
   ],
   "source": [
    "# if string start with 0, return 0 because there is no way to interpret 0\n",
    "# if string is blank,then there is only 1 way to interpret\n",
    "# looking at 2 digits at time and see how many way to decrypt the 2 digit, and increment a running count\n",
    "def decode(string):\n",
    "    print('loop')\n",
    "    if len(string)==0:\n",
    "        return 1\n",
    "    if string[0] == '0':\n",
    "        return 0\n",
    "    \n",
    "    total = decode(string[1:])\n",
    "    if len(string)>=2 and int(string[0:2])<=26:\n",
    "        total += decode(string[2:])\n",
    "        \n",
    "    return total\n",
    "\n",
    "a = '111111'\n",
    "decode(a)"
   ]
  },
  {
   "cell_type": "code",
   "execution_count": 61,
   "metadata": {},
   "outputs": [
    {
     "name": "stdout",
     "output_type": "stream",
     "text": [
      "loop\n",
      "loop\n",
      "loop\n",
      "loop\n",
      "loop\n",
      "loop\n",
      "loop\n",
      "loop\n",
      "loop\n",
      "loop\n",
      "loop\n",
      "loop\n"
     ]
    },
    {
     "data": {
      "text/plain": [
       "13"
      ]
     },
     "execution_count": 61,
     "metadata": {},
     "output_type": "execute_result"
    }
   ],
   "source": [
    "#dynamic programming\n",
    "\n",
    "def decode_dp(string, shash):\n",
    "    print('loop')\n",
    "    if len(string)==0:\n",
    "        return 1\n",
    "    if string[0] == '0':\n",
    "        return 0\n",
    "    \n",
    "    if string in shash:\n",
    "#         print(shash)\n",
    "        return shash[string]\n",
    "    \n",
    "    total = decode_dp(string[1:], shash)\n",
    "    if len(string)>=2 and int(string[0:2])<=26:\n",
    "        total += decode_dp(string[2:], shash)\n",
    "    shash[string] = total\n",
    "    return total\n",
    "\n",
    "shash = {}\n",
    "decode_dp('111111', shash)"
   ]
  },
  {
   "cell_type": "raw",
   "metadata": {},
   "source": [
    "|"
   ]
  }
 ],
 "metadata": {
  "kernelspec": {
   "display_name": "Python 3",
   "language": "python",
   "name": "python3"
  },
  "language_info": {
   "codemirror_mode": {
    "name": "ipython",
    "version": 3
   },
   "file_extension": ".py",
   "mimetype": "text/x-python",
   "name": "python",
   "nbconvert_exporter": "python",
   "pygments_lexer": "ipython3",
   "version": "3.6.3"
  }
 },
 "nbformat": 4,
 "nbformat_minor": 2
}
