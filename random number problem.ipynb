{
 "cells": [
  {
   "cell_type": "code",
   "execution_count": 13,
   "metadata": {},
   "outputs": [
    {
     "data": {
      "text/plain": [
       "([0.5176336569070765,\n",
       "  0.5452145369186687,\n",
       "  0.7990135556948946,\n",
       "  0.9618959917483175],\n",
       " [2, 3, 4, 1])"
      ]
     },
     "execution_count": 13,
     "metadata": {},
     "output_type": "execute_result"
    }
   ],
   "source": [
    "import random\n",
    "import math\n",
    "#rand() amd #floor to reorder an array.\n",
    "\n",
    "def reorder1(A):\n",
    "    \n",
    "    rand =[]\n",
    "    for a in A:\n",
    "        rand.append(random.random())\n",
    "\n",
    "    return quick_sort(rand, A)\n",
    "\n",
    "def quick_sort(r, A):\n",
    "    return recur(r, 0, len(r)-1, A)\n",
    "    \n",
    "def recur(r, begin, end, A):\n",
    "    if begin > end:\n",
    "        return\n",
    "    pivot = partition(r, begin, end, A)\n",
    "    recur(r, begin, pivot-1, A)\n",
    "    recur(r, pivot+1, end, A)\n",
    "    \n",
    "    return r, A\n",
    "\n",
    "def partition(r, begin, end, A): \n",
    "    pivot = begin\n",
    "    \n",
    "    for i in range(begin+1, end+1):\n",
    "        if r[i] < r[begin]:\n",
    "            pivot +=1\n",
    "            r[i], r[pivot] = r[pivot], r[i]            \n",
    "            A[i], A[pivot] = A[pivot], A[i]\n",
    "            \n",
    "    r[pivot], r[begin] = r[begin], r[pivot]        \n",
    "    A[pivot], A[begin] = A[begin], A[pivot]\n",
    "    \n",
    "    return pivot\n",
    "\n",
    "reorder1([1, 2, 3, 4])"
   ]
  },
  {
   "cell_type": "code",
   "execution_count": 46,
   "metadata": {},
   "outputs": [
    {
     "name": "stdout",
     "output_type": "stream",
     "text": [
      "7 5\n",
      "6 4\n",
      "5 1\n",
      "4 0\n",
      "3 1\n",
      "2 1\n",
      "1 0\n"
     ]
    },
    {
     "data": {
      "text/plain": [
       "[3, 7, 4, 8, 1, 2, 5, 6]"
      ]
     },
     "execution_count": 46,
     "metadata": {},
     "output_type": "execute_result"
    }
   ],
   "source": [
    "def reorder2(A):\n",
    "    for i in range(len(A)-1, 0, -1):\n",
    "        pair = math.floor(random.randrange(i))\n",
    "        print(i, pair)\n",
    "        A[i],A[pair] = A[pair], A[i]\n",
    "    return A\n",
    "reorder2([1, 2, 3, 4, 5, 6, 7, 8])"
   ]
  },
  {
   "cell_type": "code",
   "execution_count": 43,
   "metadata": {},
   "outputs": [
    {
     "data": {
      "text/plain": [
       "1"
      ]
     },
     "execution_count": 43,
     "metadata": {},
     "output_type": "execute_result"
    }
   ],
   "source": []
  },
  {
   "cell_type": "code",
   "execution_count": null,
   "metadata": {},
   "outputs": [],
   "source": []
  }
 ],
 "metadata": {
  "kernelspec": {
   "display_name": "Python 3",
   "language": "python",
   "name": "python3"
  },
  "language_info": {
   "codemirror_mode": {
    "name": "ipython",
    "version": 3
   },
   "file_extension": ".py",
   "mimetype": "text/x-python",
   "name": "python",
   "nbconvert_exporter": "python",
   "pygments_lexer": "ipython3",
   "version": "3.6.5"
  }
 },
 "nbformat": 4,
 "nbformat_minor": 2
}
