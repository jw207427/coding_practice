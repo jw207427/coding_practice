{
 "cells": [
  {
   "cell_type": "code",
   "execution_count": 32,
   "metadata": {},
   "outputs": [
    {
     "name": "stdout",
     "output_type": "stream",
     "text": [
      "4\n",
      "3\n",
      "6\n",
      "1\n",
      "5\n",
      "2\n"
     ]
    }
   ],
   "source": [
    "class node:\n",
    "    def __init__(self, value):\n",
    "        self.value = value\n",
    "        self.left = None\n",
    "        self.right = None\n",
    "        \n",
    "    def insert(self, value):\n",
    "        if not self.left:\n",
    "            self.left = node(value)\n",
    "        elif not self.right:\n",
    "            self.right = node(value)\n",
    "        elif not self.left.left or not self.left.right:\n",
    "            self.left.insert(value)\n",
    "        else:\n",
    "            self.right.insert(value)\n",
    "    \n",
    "    def display(self):\n",
    "        if self.left:\n",
    "            self.left.display()\n",
    "        \n",
    "        print(self.value)\n",
    "        if self.right:\n",
    "            self.right.display()\n",
    "\n",
    "class stack:\n",
    "    def __init__(self, arr = []):\n",
    "        self.items = arr\n",
    "    def isempty(self):\n",
    "        if len(self.items)>0:\n",
    "            return False\n",
    "        return True\n",
    "        \n",
    "    def peek(self):\n",
    "        return self.items[len(self.items)-1]\n",
    "        \n",
    "    def push(self, value):\n",
    "        self.items.append(value)\n",
    "    \n",
    "    def pop(self):\n",
    "        return self.items.pop()\n",
    "        \n",
    "    def length(self):\n",
    "        return len(self.items)\n",
    "    \n",
    "    def display(self):\n",
    "        temp = stack()\n",
    "\n",
    "root = node(1)\n",
    "\n",
    "root.insert(3)\n",
    "root.insert(2)\n",
    "root.insert(4)\n",
    "root.insert(6)\n",
    "root.insert(5)\n",
    "\n",
    "root.display()"
   ]
  },
  {
   "cell_type": "code",
   "execution_count": 36,
   "metadata": {},
   "outputs": [
    {
     "data": {
      "text/plain": [
       "5"
      ]
     },
     "execution_count": 36,
     "metadata": {},
     "output_type": "execute_result"
    }
   ],
   "source": [
    "#find the lowest common ancester \n",
    "def path(node, x):\n",
    "    if not node:\n",
    "        return\n",
    "    if(node.value == x):\n",
    "        return stack([x])\n",
    "    \n",
    "    left_path = path(node.left, x)\n",
    "    if left_path:\n",
    "        left_path.push(node.value)\n",
    "        \n",
    "        return left_path\n",
    "    right_path = path(node.right, x)\n",
    "    if right_path:\n",
    "        right_path.push(node.value)\n",
    "#         print(right_path.length())\n",
    "        return right_path\n",
    "    \n",
    "    return\n",
    "    \n",
    "    \n",
    "\n",
    "def lca(node, x, y):\n",
    "    \n",
    "    stack_x = path(node, x)\n",
    "    stack_y = path(node, y)\n",
    "\n",
    "    lowest_ca = 0\n",
    "    while not stack_x.isempty() and not stack_y.isempty():\n",
    "        x = stack_x.pop()\n",
    "        y = stack_y.pop()\n",
    "        if x==y:\n",
    "            lowest_ca = x\n",
    "        else:\n",
    "            break\n",
    "    return lowest_ca\n",
    "    \n",
    "lca(root, 5, 5)\n"
   ]
  },
  {
   "cell_type": "code",
   "execution_count": null,
   "metadata": {
    "collapsed": true
   },
   "outputs": [],
   "source": []
  }
 ],
 "metadata": {
  "kernelspec": {
   "display_name": "Python 3",
   "language": "python",
   "name": "python3"
  },
  "language_info": {
   "codemirror_mode": {
    "name": "ipython",
    "version": 3
   },
   "file_extension": ".py",
   "mimetype": "text/x-python",
   "name": "python",
   "nbconvert_exporter": "python",
   "pygments_lexer": "ipython3",
   "version": "3.6.3"
  }
 },
 "nbformat": 4,
 "nbformat_minor": 2
}
