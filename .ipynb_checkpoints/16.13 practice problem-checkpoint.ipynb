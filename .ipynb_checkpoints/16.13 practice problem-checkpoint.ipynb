{
 "cells": [
  {
   "cell_type": "code",
   "execution_count": 33,
   "metadata": {
    "collapsed": true
   },
   "outputs": [],
   "source": [
    "#16.13 Given two sorted arrays, write a function to merge them in \n",
    "#sorted order into a new array.\n",
    "\n",
    "s1 = [1, 5, 8, 9, 10, 12, 13, 15]\n",
    "s2 = [2, 3, 4, 6, 7, 8]\n",
    "\n",
    "#cheating\n",
    "def merge_sort(s1, s2):\n",
    "    new_s = s1+s2\n",
    "    new_s.sort()\n",
    "    return new_s"
   ]
  },
  {
   "cell_type": "code",
   "execution_count": 34,
   "metadata": {},
   "outputs": [
    {
     "data": {
      "text/plain": [
       "[1, 2, 3, 4, 5, 6, 7, 8, 8, 9, 10, 12, 13, 15]"
      ]
     },
     "execution_count": 34,
     "metadata": {},
     "output_type": "execute_result"
    }
   ],
   "source": [
    "#O(n+m)\n",
    "def merge_sort2(s1, s2):\n",
    "    \n",
    "    #check if list is empty.\n",
    "    if (len(s1) == 0) and (len(s2)==0):\n",
    "        return\n",
    "    elif (len(s1)==0):\n",
    "        return s2\n",
    "    elif (len(s2)==0):\n",
    "        return s2\n",
    "    \n",
    "    x=0\n",
    "    y=0\n",
    "    new_list = []\n",
    "    \n",
    "    \n",
    "    while (x < len(s1) and y<len(s2)):\n",
    "        if s1[x] < s2[y]:\n",
    "            new_list.append(s1[x])\n",
    "            x +=1 \n",
    "        else:\n",
    "            new_list.append(s2[y])\n",
    "            y +=1\n",
    "    \n",
    "    if x < len(s1):\n",
    "        for i in range(x, len(s1)):\n",
    "            new_list.append(s1[i])\n",
    "    else:\n",
    "        for i in range(y, len(s2)):\n",
    "            new_list.append(s2[i])        \n",
    "    return new_list\n",
    "\n",
    "merge_sort2(s1, s2)"
   ]
  },
  {
   "cell_type": "code",
   "execution_count": null,
   "metadata": {
    "collapsed": true
   },
   "outputs": [],
   "source": []
  }
 ],
 "metadata": {
  "kernelspec": {
   "display_name": "Python 3",
   "language": "python",
   "name": "python3"
  },
  "language_info": {
   "codemirror_mode": {
    "name": "ipython",
    "version": 3
   },
   "file_extension": ".py",
   "mimetype": "text/x-python",
   "name": "python",
   "nbconvert_exporter": "python",
   "pygments_lexer": "ipython3",
   "version": "3.6.3"
  }
 },
 "nbformat": 4,
 "nbformat_minor": 2
}
