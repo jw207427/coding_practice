{
 "cells": [
  {
   "cell_type": "code",
   "execution_count": 4,
   "metadata": {},
   "outputs": [
    {
     "name": "stdout",
     "output_type": "stream",
     "text": [
      "[12, 5, 11, 3]\n",
      "[3, 5, 11, 12]\n",
      "[11, 5, 3, 12]\n",
      "[3, 5, 11, 12]\n",
      "[5, 3, 11, 12]\n",
      "[3, 5, 11, 12]\n",
      "[3, 5, 11, 12]\n",
      "[3, 5, 11, 12]\n"
     ]
    }
   ],
   "source": [
    "def heapify(arr, n, i): \n",
    "    largest = i # Initialize largest as root \n",
    "    l = 2 * i + 1     # left = 2*i + 1 \n",
    "    r = 2 * i + 2     # right = 2*i + 2 \n",
    "  \n",
    "    # See if left child of root exists and is \n",
    "    # greater than root \n",
    "    if l < n and arr[i] < arr[l]: \n",
    "        largest = l \n",
    "  \n",
    "    # See if right child of root exists and is \n",
    "    # greater than root \n",
    "    if r < n and arr[largest] < arr[r]: \n",
    "        largest = r \n",
    "  \n",
    "    # Change root, if needed \n",
    "    if largest != i: \n",
    "        arr[i],arr[largest] = arr[largest],arr[i] # swap \n",
    "  \n",
    "        # Heapify the root. \n",
    "        heapify(arr, n, largest) \n",
    "  \n",
    "#The main function to sort an array of given size \n",
    "def heapSort(arr): \n",
    "    n = len(arr) \n",
    "  \n",
    "    # Build a maxheap. \n",
    "    for i in range(n//2, -1, -1): \n",
    "        heapify(arr, n, i) \n",
    "  \n",
    "    print(arr)\n",
    "    \n",
    "#     One by one extract elements \n",
    "    for i in range(n-1, 0, -1): \n",
    "        arr[i], arr[0] = arr[0], arr[i] # swap\n",
    "        print(arr)\n",
    "        heapify(arr, i, 0)\n",
    "        print(arr)\n",
    "  \n",
    "#Driver code to test above \n",
    "arr = [3, 12, 11, 5] \n",
    "heapSort(arr) \n",
    "print(arr) "
   ]
  },
  {
   "cell_type": "code",
   "execution_count": 21,
   "metadata": {},
   "outputs": [
    {
     "data": {
      "text/plain": [
       "[1, 3, 4, 5, 11, 12]"
      ]
     },
     "execution_count": 21,
     "metadata": {},
     "output_type": "execute_result"
    }
   ],
   "source": [
    "def heapify(A, n, i):\n",
    "    lar = i\n",
    "    l = 2*i+1\n",
    "    r = 2*i+2\n",
    "    \n",
    "    while l < n and A[l] > A[lar]:\n",
    "        lar = l\n",
    "        \n",
    "    while r < n and A[r] > A[lar]:\n",
    "        lar = r\n",
    "        \n",
    "    if lar != i:\n",
    "        A[lar], A[i] = A[i], A[lar]\n",
    "        heapify(A, n, lar)\n",
    "    \n",
    "def build_heap(A):\n",
    "   \n",
    "    n = len(A)\n",
    "\n",
    "    for i in range(n//2, -1, -1):\n",
    "        heapify(A, n, i)\n",
    "    \n",
    "    for i in range(n-1, 0, -1):\n",
    "        A[0], A[i] = A[i], A[0]\n",
    "#         print(A)\n",
    "        heapify(A, i, 0)\n",
    "#         print(A, '==========')\n",
    "    return A\n",
    "\n",
    "A = [3, 12, 11, 5, 1, 4]\n",
    "\n",
    "build_heap(A)"
   ]
  },
  {
   "cell_type": "code",
   "execution_count": null,
   "metadata": {
    "collapsed": true
   },
   "outputs": [],
   "source": []
  }
 ],
 "metadata": {
  "kernelspec": {
   "display_name": "Python 3",
   "language": "python",
   "name": "python3"
  },
  "language_info": {
   "codemirror_mode": {
    "name": "ipython",
    "version": 3
   },
   "file_extension": ".py",
   "mimetype": "text/x-python",
   "name": "python",
   "nbconvert_exporter": "python",
   "pygments_lexer": "ipython3",
   "version": "3.6.3"
  }
 },
 "nbformat": 4,
 "nbformat_minor": 2
}
