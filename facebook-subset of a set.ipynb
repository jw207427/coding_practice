{
 "cells": [
  {
   "cell_type": "code",
   "execution_count": 18,
   "metadata": {},
   "outputs": [
    {
     "name": "stdout",
     "output_type": "stream",
     "text": [
      "{}\n",
      "{5}\n",
      "{4}\n",
      "{4, 5}\n",
      "{3}\n",
      "{3, 5}\n",
      "{3, 4}\n",
      "{3, 4, 5}\n",
      "{2}\n",
      "{2, 5}\n",
      "{2, 4}\n",
      "{2, 4, 5}\n",
      "{2, 3}\n",
      "{2, 3, 5}\n",
      "{2, 3, 4}\n",
      "{2, 3, 4, 5}\n",
      "{1}\n",
      "{1, 5}\n",
      "{1, 4}\n",
      "{1, 4, 5}\n",
      "{1, 3}\n",
      "{1, 3, 5}\n",
      "{1, 3, 4}\n",
      "{1, 3, 4, 5}\n",
      "{1, 2}\n",
      "{1, 2, 5}\n",
      "{1, 2, 4}\n",
      "{1, 2, 4, 5}\n",
      "{1, 2, 3}\n",
      "{1, 2, 3, 5}\n",
      "{1, 2, 3, 4}\n",
      "{1, 2, 3, 4, 5}\n"
     ]
    }
   ],
   "source": [
    "#recursive solution.  At each index there are 2 possible outcomes 1)None 2)value  This means there are 2^n possible subsets\n",
    "#this recursive fuction takes O(2^n)\n",
    "def all_subset(A):\n",
    "    if not A:\n",
    "        return A\n",
    "    subset = []\n",
    "    for a in A:\n",
    "        subset.append(None)\n",
    "    \n",
    "#     print(subset)\n",
    "    helper(A, subset, 0)\n",
    "    \n",
    "def helper(A, subset, i):\n",
    "    if i >= len(A):\n",
    "        print_set(subset)\n",
    "    else:\n",
    "#         print(i)\n",
    "        subset[i] = None\n",
    "        helper(A, subset, i+1)\n",
    "        subset[i] = A[i]\n",
    "        helper(A, subset, i+1)\n",
    "        \n",
    "def print_set(arr):\n",
    "    if all(x is None for x in arr):\n",
    "        print('{}')\n",
    "    else:\n",
    "        arr = filter(None, arr)\n",
    "        print(set(arr))\n",
    "    \n",
    "A = [1, 2, 3, 4, 5]\n",
    "\n",
    "all_subset(A)\n",
    "    "
   ]
  },
  {
   "cell_type": "code",
   "execution_count": null,
   "metadata": {
    "collapsed": true
   },
   "outputs": [],
   "source": [
    "#O(n^2) This is incorrect because subset is allow to skip values\n",
    "A = [1, 2, 3, 4, 5]\n",
    "\n",
    "\n",
    "def print_subset(A):\n",
    "    if not A:\n",
    "        return\n",
    "    print([])\n",
    "    for i in range(len(A)):\n",
    "        for j in range(i+1, len(A)+1):\n",
    "            print(A[i:j])\n",
    "            \n",
    "print_subset(A)"
   ]
  }
 ],
 "metadata": {
  "kernelspec": {
   "display_name": "Python 3",
   "language": "python",
   "name": "python3"
  },
  "language_info": {
   "codemirror_mode": {
    "name": "ipython",
    "version": 3
   },
   "file_extension": ".py",
   "mimetype": "text/x-python",
   "name": "python",
   "nbconvert_exporter": "python",
   "pygments_lexer": "ipython3",
   "version": "3.6.3"
  }
 },
 "nbformat": 4,
 "nbformat_minor": 2
}
