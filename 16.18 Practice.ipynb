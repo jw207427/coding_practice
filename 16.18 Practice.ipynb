{
 "cells": [
  {
   "cell_type": "code",
   "execution_count": 3,
   "metadata": {},
   "outputs": [
    {
     "name": "stdout",
     "output_type": "stream",
     "text": [
      "3\n",
      "5\n",
      "6\n",
      "7\n",
      "12\n",
      "15\n",
      "21\n",
      "32\n",
      "54\n"
     ]
    }
   ],
   "source": [
    "#16.18 Write the pseudocode for breadth-first search on a binary tree. Try to be as\n",
    "#detailed as possible.\n",
    "\n",
    "class node:\n",
    "    def __init__(self, value):\n",
    "        self.value = value\n",
    "        self.left = None\n",
    "        self.right = None\n",
    "    \n",
    "    def insert(self, value):\n",
    "        if value < self.value:\n",
    "            if self.left:\n",
    "                self.left.insert(value)\n",
    "            else:\n",
    "                self.left = node(value)\n",
    "        else:\n",
    "            if self.right:\n",
    "                self.right.insert(value)\n",
    "            else:\n",
    "                self.right = node(value)\n",
    "    \n",
    "    def display(self):\n",
    "        if self.left:\n",
    "            self.left.display()\n",
    "        \n",
    "        print(self.value)\n",
    "        \n",
    "        if self.right:\n",
    "            self.right.display()\n",
    "            \n",
    "tree = node(15)\n",
    "tree.insert(3)\n",
    "tree.insert(5)\n",
    "tree.insert(32)\n",
    "tree.insert(21)\n",
    "tree.insert(54)\n",
    "tree.insert(7)\n",
    "tree.insert(12)\n",
    "tree.insert(6)\n",
    "tree.display()\n",
    "\n",
    "\n",
    "def breadth_search(tree, value):\n",
    "        \n",
    "        \n",
    "        "
   ]
  },
  {
   "cell_type": "code",
   "execution_count": null,
   "metadata": {},
   "outputs": [],
   "source": []
  }
 ],
 "metadata": {
  "kernelspec": {
   "display_name": "Python 3",
   "language": "python",
   "name": "python3"
  },
  "language_info": {
   "codemirror_mode": {
    "name": "ipython",
    "version": 3
   },
   "file_extension": ".py",
   "mimetype": "text/x-python",
   "name": "python",
   "nbconvert_exporter": "python",
   "pygments_lexer": "ipython3",
   "version": "3.6.5"
  }
 },
 "nbformat": 4,
 "nbformat_minor": 2
}
