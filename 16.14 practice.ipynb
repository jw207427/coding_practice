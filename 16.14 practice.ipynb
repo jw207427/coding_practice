{
 "cells": [
  {
   "cell_type": "code",
   "execution_count": 4,
   "metadata": {},
   "outputs": [
    {
     "data": {
      "text/plain": [
       "[1, 3, 5, 6, 6, 8, 8, 10, 12]"
      ]
     },
     "execution_count": 4,
     "metadata": {},
     "output_type": "execute_result"
    }
   ],
   "source": [
    "#16.14 Implement insertion sort. Insertion sort operates by iterating \n",
    "#through the array, inserting each  element in order on the element’s left side\n",
    "# O(n^2) time\n",
    "s1 = [1, 6, 8]\n",
    "\n",
    "s2 = [3, 5, 6, 8, 10, 12]\n",
    "\n",
    "def insert_sort(s1, s2):\n",
    "    for x in s1:\n",
    "        index = 0\n",
    "        for y in s2:\n",
    "            if x>y:\n",
    "                index+=1\n",
    "        s2.insert(index, x)\n",
    "    return s2\n",
    "                \n",
    "insert_sort(s1, s2)\n",
    "                \n",
    "\n"
   ]
  },
  {
   "cell_type": "code",
   "execution_count": null,
   "metadata": {},
   "outputs": [],
   "source": []
  }
 ],
 "metadata": {
  "kernelspec": {
   "display_name": "Python 3",
   "language": "python",
   "name": "python3"
  },
  "language_info": {
   "codemirror_mode": {
    "name": "ipython",
    "version": 3
   },
   "file_extension": ".py",
   "mimetype": "text/x-python",
   "name": "python",
   "nbconvert_exporter": "python",
   "pygments_lexer": "ipython3",
   "version": "3.6.5"
  }
 },
 "nbformat": 4,
 "nbformat_minor": 2
}
