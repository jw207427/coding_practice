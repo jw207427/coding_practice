{
 "cells": [
  {
   "cell_type": "markdown",
   "metadata": {},
   "source": [
    "16.23 Given an array of integers (with both positive and negative values), find the\n",
    "contiguous sequence with the largest sum. Return just the sum.\n",
    "Example:\n",
    "Input: 2, -8, 3, -2, 4, -10\n",
    "Output: 5 (i.e., {3, -2, 4})\n"
   ]
  },
  {
   "cell_type": "code",
   "execution_count": 1,
   "metadata": {},
   "outputs": [
    {
     "data": {
      "text/plain": [
       "-2"
      ]
     },
     "execution_count": 1,
     "metadata": {},
     "output_type": "execute_result"
    }
   ],
   "source": [
    "s = [-10, -8, -3, -2, -8, -10, -5, -5, -10]\n",
    "\n",
    "def larget_continuous_sum(s):\n",
    "    \n",
    "    large_sum=-2**100\n",
    "    for i in range(len(s)):\n",
    "        for j in range(0,len(s)-i):\n",
    "            total = sum(s[i:len(s)-j])\n",
    "#             if(total==0):\n",
    "#                 print(i, j, s[i:len(s)-j])\n",
    "#             print(total)\n",
    "            if total>large_sum:\n",
    "                large_sum = total\n",
    "    \n",
    "    return large_sum\n",
    "\n",
    "larget_continuous_sum(s)"
   ]
  },
  {
   "cell_type": "code",
   "execution_count": 36,
   "metadata": {},
   "outputs": [
    {
     "data": {
      "text/plain": [
       "-2"
      ]
     },
     "execution_count": 36,
     "metadata": {},
     "output_type": "execute_result"
    }
   ],
   "source": [
    "def running_sum(s):\n",
    "    large_sum = -2**100\n",
    "    for i in range(len(s)):\n",
    "        running_sum = 0\n",
    "        for j in range(i, len(s)):\n",
    "            running_sum+=s[j]\n",
    "            if running_sum > large_sum:\n",
    "                large_sum = running_sum\n",
    "    return large_sum\n",
    "\n",
    "running_sum(s)"
   ]
  },
  {
   "cell_type": "code",
   "execution_count": 44,
   "metadata": {},
   "outputs": [
    {
     "name": "stdout",
     "output_type": "stream",
     "text": [
      "-10\n",
      "-18\n",
      "-3\n",
      "-5\n",
      "-8\n",
      "-10\n",
      "-5\n",
      "-5\n",
      "-10\n"
     ]
    },
    {
     "data": {
      "text/plain": [
       "-3"
      ]
     },
     "execution_count": 44,
     "metadata": {},
     "output_type": "execute_result"
    }
   ],
   "source": [
    "def running_total(s):\n",
    "    large_sum = -2**100\n",
    "    running_sum = 0\n",
    "    for i in range(0, len(s)):\n",
    "        running_sum+=s[i]\n",
    "        print(running_sum)\n",
    "        if running_sum > large_sum:\n",
    "            large_sum = running_sum\n",
    "        elif running_sum<0:\n",
    "            running_sum=0\n",
    "    \n",
    "    return large_sum\n",
    "\n",
    "running_total(s)"
   ]
  },
  {
   "cell_type": "code",
   "execution_count": 10,
   "metadata": {},
   "outputs": [
    {
     "data": {
      "text/plain": [
       "(3, (2, 3))"
      ]
     },
     "execution_count": 10,
     "metadata": {},
     "output_type": "execute_result"
    }
   ],
   "source": [
    "def kadane(A):\n",
    "    max_cur = max_glob = A[0]\n",
    "    start = 0\n",
    "    end = 0\n",
    "    for i in range(1, len(A)):\n",
    "        max_cur = max(A[i], max_cur+A[i])\n",
    "        if max_cur == A[i]:\n",
    "            start = i\n",
    "        if max_cur > max_glob:\n",
    "            max_glob = max_cur\n",
    "            end = i\n",
    "            \n",
    "    return max_glob, (start, end)\n",
    "\n",
    "s = [1, -3, 2, 1, -1]\n",
    "\n",
    "kadane(s)"
   ]
  },
  {
   "cell_type": "code",
   "execution_count": null,
   "metadata": {
    "collapsed": true
   },
   "outputs": [],
   "source": []
  }
 ],
 "metadata": {
  "kernelspec": {
   "display_name": "Python 3",
   "language": "python",
   "name": "python3"
  },
  "language_info": {
   "codemirror_mode": {
    "name": "ipython",
    "version": 3
   },
   "file_extension": ".py",
   "mimetype": "text/x-python",
   "name": "python",
   "nbconvert_exporter": "python",
   "pygments_lexer": "ipython3",
   "version": "3.6.3"
  }
 },
 "nbformat": 4,
 "nbformat_minor": 2
}
