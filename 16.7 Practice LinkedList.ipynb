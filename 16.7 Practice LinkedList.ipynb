{
 "cells": [
  {
   "cell_type": "code",
   "execution_count": 23,
   "metadata": {},
   "outputs": [
    {
     "name": "stdout",
     "output_type": "stream",
     "text": [
      "0\n",
      "1\n",
      "3\n",
      "5\n",
      "7\n",
      "9\n"
     ]
    }
   ],
   "source": [
    "# Insert a node into a sorted linked list (in order). (Don’t forget about what\n",
    "# happens when the new element is at the start or end!)\n",
    "class node:\n",
    "    def __init__(self, value):\n",
    "        self.value = value\n",
    "        self.next = None\n",
    "        \n",
    "    def insert(self, value):\n",
    "        if self.next:\n",
    "            self.next.insert(value)\n",
    "        else:\n",
    "            self.next = node(value)\n",
    "            \n",
    "    def display(self):\n",
    "        print(self.value)\n",
    "        if self.next:\n",
    "            self.next.display()\n",
    "            \n",
    "A = [1, 3, 5, 7, 9]\n",
    "head = node(0)\n",
    "for a in A:\n",
    "    head.insert(a)\n",
    "    \n",
    "head.display()"
   ]
  },
  {
   "cell_type": "code",
   "execution_count": 24,
   "metadata": {},
   "outputs": [
    {
     "name": "stdout",
     "output_type": "stream",
     "text": [
      "0\n",
      "1\n",
      "3\n",
      "5\n",
      "4\n",
      "7\n",
      "9\n"
     ]
    }
   ],
   "source": [
    "#O(n)\n",
    "def insert_in_order(head, value):\n",
    "    new = node(value)\n",
    "    if (not head) or (new.value<head.value):\n",
    "        new.next = head\n",
    "        return new\n",
    "    \n",
    "    current = head\n",
    "#     print(current.value, new.value)\n",
    "    while (current.next) and (new.value > current.value):\n",
    "        current = current.next\n",
    "#         print(current.value)\n",
    "        \n",
    "    new.next = current.next\n",
    "    current.next = new\n",
    "    return head\n",
    "\n",
    "test = insert_in_order(head, 4)\n",
    "\n",
    "test.display()"
   ]
  },
  {
   "cell_type": "code",
   "execution_count": 16,
   "metadata": {},
   "outputs": [
    {
     "data": {
      "text/plain": [
       "False"
      ]
     },
     "execution_count": 16,
     "metadata": {},
     "output_type": "execute_result"
    }
   ],
   "source": [
    "not head.next\n",
    "    "
   ]
  },
  {
   "cell_type": "code",
   "execution_count": null,
   "metadata": {},
   "outputs": [],
   "source": []
  }
 ],
 "metadata": {
  "kernelspec": {
   "display_name": "Python 3",
   "language": "python",
   "name": "python3"
  },
  "language_info": {
   "codemirror_mode": {
    "name": "ipython",
    "version": 3
   },
   "file_extension": ".py",
   "mimetype": "text/x-python",
   "name": "python",
   "nbconvert_exporter": "python",
   "pygments_lexer": "ipython3",
   "version": "3.6.5"
  }
 },
 "nbformat": 4,
 "nbformat_minor": 2
}
