{
 "cells": [
  {
   "cell_type": "code",
   "execution_count": 7,
   "metadata": {},
   "outputs": [
    {
     "data": {
      "text/plain": [
       "[[211, 9], [262, 3], [216, 6]]"
      ]
     },
     "execution_count": 7,
     "metadata": {},
     "output_type": "execute_result"
    }
   ],
   "source": [
    "#You are given a two-dimensional array of sales data where the first column is a\n",
    "# product ID and the second column is the quantity. Write a function to take this list of\n",
    "# data and return a new two-dimensional array with the total sales for each product ID.\n",
    "#O(n)\n",
    "\n",
    "A = [[211, 4], [262, 3], [211, 5], [216, 6]]\n",
    "\n",
    "def group_sale_by_product(A):\n",
    "    if not A:\n",
    "        return\n",
    "    \n",
    "    sales = {}\n",
    "    for s in A:\n",
    "        if len(s)!=2:\n",
    "            return\n",
    "        \n",
    "        if s[0] not in sales:\n",
    "            sales[s[0]] = 0\n",
    "            \n",
    "        sales[s[0]]+=s[1]\n",
    "        \n",
    "    new_A = []\n",
    "    for key, value in sales.items():\n",
    "        new_A.append([key, value])\n",
    "        \n",
    "    return new_A\n",
    "\n",
    "group_sale_by_product(A)"
   ]
  },
  {
   "cell_type": "code",
   "execution_count": null,
   "metadata": {},
   "outputs": [],
   "source": []
  }
 ],
 "metadata": {
  "kernelspec": {
   "display_name": "Python 3",
   "language": "python",
   "name": "python3"
  },
  "language_info": {
   "codemirror_mode": {
    "name": "ipython",
    "version": 3
   },
   "file_extension": ".py",
   "mimetype": "text/x-python",
   "name": "python",
   "nbconvert_exporter": "python",
   "pygments_lexer": "ipython3",
   "version": "3.6.5"
  }
 },
 "nbformat": 4,
 "nbformat_minor": 2
}
