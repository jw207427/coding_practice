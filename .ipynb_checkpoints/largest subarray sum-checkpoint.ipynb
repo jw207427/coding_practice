{
 "cells": [
  {
   "cell_type": "code",
   "execution_count": 7,
   "metadata": {},
   "outputs": [
    {
     "name": "stdout",
     "output_type": "stream",
     "text": [
      "0 0\n",
      "1 1\n",
      "2 0\n",
      "3 7\n",
      "4 22\n",
      "5 19\n",
      "6 27\n"
     ]
    },
    {
     "data": {
      "text/plain": [
       "(27, [7, 15, -3, 8])"
      ]
     },
     "execution_count": 7,
     "metadata": {},
     "output_type": "execute_result"
    }
   ],
   "source": [
    "A = [1, -6, 7, 15, -3, 8, -6]\n",
    "\n",
    "def largest_sum(A):\n",
    "    total_sum = 0\n",
    "    largest = -2**100\n",
    "    start = 0\n",
    "    end = len(A)-1\n",
    "    for i in range(len(A)):\n",
    "        print(i, total_sum)\n",
    "        total_sum +=A[i]\n",
    "        if total_sum < 0:\n",
    "            total_sum=0\n",
    "            start = i+1\n",
    "        if total_sum > largest:\n",
    "            largest = total_sum\n",
    "            end = i+1\n",
    "    \n",
    "    return largest, A[start:end]\n",
    "\n",
    "largest_sum(A)\n",
    "        "
   ]
  },
  {
   "cell_type": "code",
   "execution_count": 6,
   "metadata": {},
   "outputs": [
    {
     "data": {
      "text/plain": [
       "(27, [7, 15, -3, 8])"
      ]
     },
     "execution_count": 6,
     "metadata": {},
     "output_type": "execute_result"
    }
   ],
   "source": [
    "#correct solution\n",
    "\n",
    "def largest_sum2(A):\n",
    "    gmax = A[0]\n",
    "    premax = A[0]\n",
    "    start = 0\n",
    "    end = 0\n",
    "    \n",
    "    gstart = 0\n",
    "    gend = 0\n",
    "    \n",
    "    for i in range(1, len(A)):\n",
    "        run_sum = premax + A[i]\n",
    "        \n",
    "        if A[i] > run_sum:\n",
    "            premax = A[i]\n",
    "            start = i\n",
    "            end = i\n",
    "        else:\n",
    "            premax = run_sum\n",
    "            end = i\n",
    "        \n",
    "        if premax > gmax:\n",
    "            gmax = premax\n",
    "            gstart = start\n",
    "            gend = end\n",
    "            \n",
    "    return gmax, A[gstart:gend+1]\n",
    "\n",
    "A = [1, -6, 7, 15, -3, 8, -6]\n",
    "\n",
    "largest_sum2(A)"
   ]
  },
  {
   "cell_type": "code",
   "execution_count": null,
   "metadata": {
    "collapsed": true
   },
   "outputs": [],
   "source": []
  }
 ],
 "metadata": {
  "kernelspec": {
   "display_name": "Python 3",
   "language": "python",
   "name": "python3"
  },
  "language_info": {
   "codemirror_mode": {
    "name": "ipython",
    "version": 3
   },
   "file_extension": ".py",
   "mimetype": "text/x-python",
   "name": "python",
   "nbconvert_exporter": "python",
   "pygments_lexer": "ipython3",
   "version": "3.6.3"
  }
 },
 "nbformat": 4,
 "nbformat_minor": 2
}
