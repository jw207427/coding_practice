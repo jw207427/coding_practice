{
 "cells": [
  {
   "cell_type": "code",
   "execution_count": 6,
   "metadata": {},
   "outputs": [
    {
     "data": {
      "text/plain": [
       "[[-2, 0, 2], [-1, -1, 2], [-1, 0, 1]]"
      ]
     },
     "execution_count": 6,
     "metadata": {},
     "output_type": "execute_result"
    }
   ],
   "source": [
    "# given an array and a value.  Look for any subset of 3 that sums up to the number\n",
    "def sum_three(A, k):\n",
    "    \n",
    "    A = sorted(A) #O(nlogn)\n",
    "    \n",
    "    hash_ = {}\n",
    "    \n",
    "    subset = []\n",
    "\n",
    "    for a in range(len(A)-2): #O(n^2)\n",
    "        b = a+1\n",
    "        c = len(A)-1\n",
    "        \n",
    "        key = str(A)+':'+str(b)+':'+str(c)\n",
    "        \n",
    "        if key not in hash_:\n",
    "            while b<c:\n",
    "                if A[a]+A[b]+ A[c] == k:\n",
    "                    subset.append([A[a], A[b], A[c]])\n",
    "                    hash_[key] = k\n",
    "                    break\n",
    "                \n",
    "                if A[a]+A[b]+ A[c] > k:\n",
    "                    c-=1\n",
    "                else:\n",
    "                    b+=1\n",
    "    return subset\n",
    "\n",
    "A = [-1, 0, -1,1, 2, 2, -2]\n",
    "k = 0\n",
    "sum_three(A, k)"
   ]
  },
  {
   "cell_type": "code",
   "execution_count": null,
   "metadata": {
    "collapsed": true
   },
   "outputs": [],
   "source": [
    "\n",
    "\n",
    "\n"
   ]
  }
 ],
 "metadata": {
  "kernelspec": {
   "display_name": "Python 3",
   "language": "python",
   "name": "python3"
  },
  "language_info": {
   "codemirror_mode": {
    "name": "ipython",
    "version": 3
   },
   "file_extension": ".py",
   "mimetype": "text/x-python",
   "name": "python",
   "nbconvert_exporter": "python",
   "pygments_lexer": "ipython3",
   "version": "3.6.3"
  }
 },
 "nbformat": 4,
 "nbformat_minor": 2
}
