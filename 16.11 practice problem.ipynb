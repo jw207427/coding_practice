{
 "cells": [
  {
   "cell_type": "code",
   "execution_count": 2,
   "metadata": {},
   "outputs": [],
   "source": [
    "# 16.11 Write a function to check if two queues are identical \n",
    "# (same values in the same order). It’s okay to modify/destroy the two queues.\n",
    "\n",
    "class queue():\n",
    "    def __init__(self):\n",
    "        self.items = []\n",
    "        \n",
    "    def insert(self, value):\n",
    "        self.items.insert(0,value)\n",
    "        \n",
    "    def peek(self):\n",
    "        return self.items[0]\n",
    "    \n",
    "    def dequeue(self):\n",
    "        return self.items.pop()\n",
    "    \n",
    "    def length(self):\n",
    "        return len(self.items)\n",
    "    \n",
    "    def display(self):\n",
    "        temp = queue()\n",
    "        for i in range(self.length()):\n",
    "            print(self.peek())\n",
    "            temp.insert(self.dequeue())\n",
    "        \n",
    "        for i in range(temp.length()):\n",
    "            self.insert(temp.dequeue())"
   ]
  },
  {
   "cell_type": "code",
   "execution_count": 4,
   "metadata": {},
   "outputs": [],
   "source": [
    "#speed of this operation is O(n)\n",
    "def check_identical_queue(q1, q2):\n",
    "    #flag\n",
    "    bOK = False\n",
    "    \n",
    "    #if the length are different then False\n",
    "    if q1.length() != q2.length():\n",
    "        return False\n",
    "    \n",
    "    for i in range(q1.length()):\n",
    "        if q1.dequeue() == q2.dequeue():\n",
    "            bOK= True\n",
    "        else:\n",
    "            bOK = False\n",
    "\n",
    "    return bOK"
   ]
  },
  {
   "cell_type": "code",
   "execution_count": 9,
   "metadata": {},
   "outputs": [
    {
     "data": {
      "text/plain": [
       "False"
      ]
     },
     "execution_count": 9,
     "metadata": {},
     "output_type": "execute_result"
    }
   ],
   "source": [
    "q1 = queue()\n",
    "q2 = queue()\n",
    "q1.insert(5)\n",
    "q2.insert(5)\n",
    "q1.insert(6)\n",
    "q2.insert(6)\n",
    "q1.insert(4)\n",
    "\n",
    "check_identical_queue(q1, q2)"
   ]
  },
  {
   "cell_type": "code",
   "execution_count": null,
   "metadata": {},
   "outputs": [],
   "source": []
  }
 ],
 "metadata": {
  "kernelspec": {
   "display_name": "Python 3",
   "language": "python",
   "name": "python3"
  },
  "language_info": {
   "codemirror_mode": {
    "name": "ipython",
    "version": 3
   },
   "file_extension": ".py",
   "mimetype": "text/x-python",
   "name": "python",
   "nbconvert_exporter": "python",
   "pygments_lexer": "ipython3",
   "version": "3.6.5"
  }
 },
 "nbformat": 4,
 "nbformat_minor": 2
}
