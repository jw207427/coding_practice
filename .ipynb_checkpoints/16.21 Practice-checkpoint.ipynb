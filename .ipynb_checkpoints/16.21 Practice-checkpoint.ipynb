{
 "cells": [
  {
   "cell_type": "markdown",
   "metadata": {},
   "source": [
    "16.21 In a group of people, a person is called a “celebrity” if everyone knows them\n",
    "but they know no one else. You are given a function knows(a, b) which tells you if\n",
    "person a knows person b. Design an algorithm to find the celebrity (if one exists).\n",
    "For simplicity, you can assume that everyone is given a label from 0 to N-1. You need\n",
    "to implement a function int findCelebrity(int N).\n"
   ]
  },
  {
   "cell_type": "code",
   "execution_count": 46,
   "metadata": {},
   "outputs": [
    {
     "name": "stdout",
     "output_type": "stream",
     "text": [
      "{0: 8, 1: 8, 2: 6, 3: 4, 4: 7, 5: 8, 6: 5, 7: 7, 8: 5, 9: 7, 11: 3}\n"
     ]
    },
    {
     "data": {
      "text/plain": [
       "10"
      ]
     },
     "execution_count": 46,
     "metadata": {},
     "output_type": "execute_result"
    }
   ],
   "source": [
    "import random\n",
    "\n",
    "def kowns(a, b):\n",
    "    celeb = 10\n",
    "    if a == celeb:\n",
    "        return 0\n",
    "    elif b==celeb:\n",
    "        return 1\n",
    "    else:\n",
    "        return random.randrange(2)\n",
    "\n",
    "def find_celebrity(n):\n",
    "    celeb = 0\n",
    "    relation = {}\n",
    "    for x in range(n):\n",
    "        for y in range(n):\n",
    "            k = kowns(x,y)\n",
    "            if k==1:\n",
    "                if x not in relation:\n",
    "                    relation[x] = 0\n",
    "                relation[x]+=1\n",
    "    \n",
    "    print(relation)\n",
    "    for x in range(n):\n",
    "        if x not in relation:\n",
    "            celeb = x\n",
    "    return celeb\n",
    "\n",
    "find_celebrity(12)\n"
   ]
  },
  {
   "cell_type": "code",
   "execution_count": 45,
   "metadata": {},
   "outputs": [
    {
     "data": {
      "text/plain": [
       "10"
      ]
     },
     "execution_count": 45,
     "metadata": {},
     "output_type": "execute_result"
    }
   ],
   "source": [
    "def find_celebrity2(n):\n",
    "    nobody = []\n",
    "    for x in range(n-1):\n",
    "#         for y in range(n):\n",
    "#             if x!=y:\n",
    "        if kowns(x, x+1) == 1:\n",
    "            nobody.append(x)\n",
    "        else:\n",
    "            nobody.append(x+1)\n",
    "        \n",
    "    for x in range(n):\n",
    "        if x not in nobody:\n",
    "            celeb = x\n",
    "    return celeb\n",
    "\n",
    "find_celebrity2(12)"
   ]
  },
  {
   "cell_type": "code",
   "execution_count": null,
   "metadata": {
    "collapsed": true
   },
   "outputs": [],
   "source": []
  },
  {
   "cell_type": "code",
   "execution_count": null,
   "metadata": {
    "collapsed": true
   },
   "outputs": [],
   "source": []
  }
 ],
 "metadata": {
  "kernelspec": {
   "display_name": "Python 3",
   "language": "python",
   "name": "python3"
  },
  "language_info": {
   "codemirror_mode": {
    "name": "ipython",
    "version": 3
   },
   "file_extension": ".py",
   "mimetype": "text/x-python",
   "name": "python",
   "nbconvert_exporter": "python",
   "pygments_lexer": "ipython3",
   "version": "3.6.3"
  }
 },
 "nbformat": 4,
 "nbformat_minor": 2
}
