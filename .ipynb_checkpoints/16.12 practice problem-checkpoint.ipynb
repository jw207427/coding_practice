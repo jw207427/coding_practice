{
 "cells": [
  {
   "cell_type": "code",
   "execution_count": 4,
   "metadata": {
    "collapsed": true
   },
   "outputs": [],
   "source": [
    "#16.12 Write a function to remove the 13th element from a queue \n",
    "#(but keep all the other elements in place and in the same order).\n",
    "\n",
    "class queue():\n",
    "    def __init__(self):\n",
    "        self.items = []\n",
    "    \n",
    "    def isEmpty(self):\n",
    "        return len(self.items)==0\n",
    "    def insert(self, value):\n",
    "        self.items.insert(0,value)\n",
    "        \n",
    "    def peek(self):\n",
    "        return self.items[self.length()-1]\n",
    "    \n",
    "    def dequeue(self):\n",
    "        return self.items.pop()\n",
    "    \n",
    "    def length(self):\n",
    "        return len(self.items)\n",
    "    \n",
    "    def display(self):\n",
    "        temp = queue()\n",
    "        for i in range(self.length()):\n",
    "            print(self.peek())\n",
    "            temp.insert(self.dequeue())\n",
    "        \n",
    "        for i in range(temp.length()):\n",
    "            self.insert(temp.dequeue())"
   ]
  },
  {
   "cell_type": "code",
   "execution_count": 8,
   "metadata": {
    "collapsed": true
   },
   "outputs": [],
   "source": [
    "#create a new que and skip the nth element\n",
    "#O(n) time to operate\n",
    "def remove_nth_element(q, n):\n",
    "    if(q.length()==0):\n",
    "        return\n",
    "    elif(q.length()<n):\n",
    "        return q\n",
    "    \n",
    "    new_q = queue()\n",
    "    for i in range(q.length()):\n",
    "        if i != n-1:\n",
    "            new_q.insert(q.dequeue())\n",
    "        else:\n",
    "            q.dequeue()\n",
    "    \n",
    "    return new_q"
   ]
  },
  {
   "cell_type": "code",
   "execution_count": 12,
   "metadata": {},
   "outputs": [
    {
     "name": "stdout",
     "output_type": "stream",
     "text": [
      "==============================\n"
     ]
    }
   ],
   "source": [
    "q = queue()\n",
    "\n",
    "q.display()\n",
    "\n",
    "print('==============================')\n",
    "new_q = remove_nth_element(q, 5)\n",
    "\n",
    "new_q.display()"
   ]
  },
  {
   "cell_type": "code",
   "execution_count": null,
   "metadata": {
    "collapsed": true
   },
   "outputs": [],
   "source": []
  }
 ],
 "metadata": {
  "kernelspec": {
   "display_name": "Python 3",
   "language": "python",
   "name": "python3"
  },
  "language_info": {
   "codemirror_mode": {
    "name": "ipython",
    "version": 3
   },
   "file_extension": ".py",
   "mimetype": "text/x-python",
   "name": "python",
   "nbconvert_exporter": "python",
   "pygments_lexer": "ipython3",
   "version": "3.6.3"
  }
 },
 "nbformat": 4,
 "nbformat_minor": 2
}
