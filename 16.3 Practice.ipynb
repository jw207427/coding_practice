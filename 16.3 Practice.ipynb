{
 "cells": [
  {
   "cell_type": "code",
   "execution_count": 27,
   "metadata": {},
   "outputs": [
    {
     "data": {
      "text/plain": [
       "True"
      ]
     },
     "execution_count": 27,
     "metadata": {},
     "output_type": "execute_result"
    }
   ],
   "source": [
    "#Given two lists (A and B) of unique strings, write a program to determine if A is\n",
    "#a subset of B. That is, check if all the elements from A are contained in B.\n",
    "#O(n^2)\n",
    "\n",
    "A = [1, 5, 8]\n",
    "\n",
    "B = [1,3,1, 5,8,7,9,8]\n",
    "\n",
    "def check_subset(A, B):\n",
    "    if not A or not B:\n",
    "        return False\n",
    "    \n",
    "    if len(A) > len(B):\n",
    "        return False\n",
    "    \n",
    "    subset = False\n",
    "    for a in A:\n",
    "        if a in B:\n",
    "            subset = True\n",
    "        else:\n",
    "            subset = False\n",
    "            break\n",
    "    return subset\n",
    "\n",
    "check_subset(A, B)"
   ]
  },
  {
   "cell_type": "code",
   "execution_count": 25,
   "metadata": {},
   "outputs": [
    {
     "data": {
      "text/plain": [
       "False"
      ]
     },
     "execution_count": 25,
     "metadata": {},
     "output_type": "execute_result"
    }
   ],
   "source": [
    "#if B contains A in order O(nA+nB)\n",
    "def check_ordered_subset(A, B):\n",
    "    if not A or not B:\n",
    "        return False\n",
    "    \n",
    "    if len(A) > len(B):\n",
    "        return False\n",
    "    \n",
    "    A_string = ''\n",
    "    B_string = ''\n",
    "    \n",
    "    for a in A:\n",
    "        A_string += str(a)\n",
    "        \n",
    "    for b in B:\n",
    "        B_string += str(b)\n",
    "        \n",
    "    return A_string in B_string\n",
    "\n",
    "check_ordered_subset(A, B)\n"
   ]
  },
  {
   "cell_type": "code",
   "execution_count": 28,
   "metadata": {},
   "outputs": [
    {
     "data": {
      "text/plain": [
       "True"
      ]
     },
     "execution_count": 28,
     "metadata": {},
     "output_type": "execute_result"
    }
   ],
   "source": [
    "#or O(n^2)\n",
    "def check_ordered_subset2(A,B):\n",
    "    if not A or not B:\n",
    "        return False\n",
    "    \n",
    "    if len(A) > len(B):\n",
    "        return False\n",
    "    \n",
    "    B_hash = {}\n",
    "    \n",
    "    for i in range(len(B)):\n",
    "        if B[i] not in B_hash:\n",
    "            B_hash[B[i]] = []\n",
    "            \n",
    "        B_hash[B[i]].append(i)\n",
    "    \n",
    "    check = False\n",
    "    if A[0] in B_hash:\n",
    "        for i in B_hash[A[0]]:\n",
    "            check = sequence(A, B, i)\n",
    "            if check:\n",
    "                break\n",
    "    else:\n",
    "        check = False\n",
    "        \n",
    "    return check\n",
    "\n",
    "\n",
    "def sequence(A, B, index):\n",
    "        seq = False\n",
    "        for i in range(len(A)):\n",
    "            if A[i] == B[index+i]:\n",
    "                seq = True\n",
    "            else:\n",
    "                seq = False\n",
    "                break\n",
    "        return seq\n",
    "    \n",
    "check_ordered_subset2(A, B)"
   ]
  },
  {
   "cell_type": "code",
   "execution_count": null,
   "metadata": {},
   "outputs": [],
   "source": []
  }
 ],
 "metadata": {
  "kernelspec": {
   "display_name": "Python 3",
   "language": "python",
   "name": "python3"
  },
  "language_info": {
   "codemirror_mode": {
    "name": "ipython",
    "version": 3
   },
   "file_extension": ".py",
   "mimetype": "text/x-python",
   "name": "python",
   "nbconvert_exporter": "python",
   "pygments_lexer": "ipython3",
   "version": "3.6.5"
  }
 },
 "nbformat": 4,
 "nbformat_minor": 2
}
