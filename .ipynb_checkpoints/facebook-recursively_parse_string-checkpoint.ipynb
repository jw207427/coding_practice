{
 "cells": [
  {
   "cell_type": "code",
   "execution_count": 5,
   "metadata": {},
   "outputs": [
    {
     "name": "stdout",
     "output_type": "stream",
     "text": [
      "abc\n",
      "d\n"
     ]
    }
   ],
   "source": [
    "def R_parse(string, n):\n",
    "    if not string:\n",
    "        return\n",
    "    if len(string) > 0:\n",
    "        display=''\n",
    "        \n",
    "        if n>len(string):\n",
    "            n = len(string)\n",
    "            \n",
    "        for i in range(n):\n",
    "            display += string[0]\n",
    "            string = string[1:]\n",
    "            \n",
    "        print(display)\n",
    "        R_parse(string, n)\n",
    "        \n",
    "string = 'abcd'\n",
    "\n",
    "R_parse(string, 3)"
   ]
  },
  {
   "cell_type": "code",
   "execution_count": 10,
   "metadata": {},
   "outputs": [
    {
     "name": "stdout",
     "output_type": "stream",
     "text": [
      "abc\n",
      "d\n"
     ]
    }
   ],
   "source": [
    "def parse(string, n):\n",
    "    if len(string) <= n:\n",
    "        print(string)\n",
    "        return\n",
    "    \n",
    "    print(string[:n])\n",
    "    parse(string[n:], n)\n",
    "    \n",
    "parse('abcd', 3)"
   ]
  },
  {
   "cell_type": "code",
   "execution_count": null,
   "metadata": {
    "collapsed": true
   },
   "outputs": [],
   "source": []
  }
 ],
 "metadata": {
  "kernelspec": {
   "display_name": "Python 3",
   "language": "python",
   "name": "python3"
  },
  "language_info": {
   "codemirror_mode": {
    "name": "ipython",
    "version": 3
   },
   "file_extension": ".py",
   "mimetype": "text/x-python",
   "name": "python",
   "nbconvert_exporter": "python",
   "pygments_lexer": "ipython3",
   "version": "3.6.3"
  }
 },
 "nbformat": 4,
 "nbformat_minor": 2
}
