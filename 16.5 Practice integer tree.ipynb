{
 "cells": [
  {
   "cell_type": "code",
   "execution_count": 1,
   "metadata": {},
   "outputs": [
    {
     "name": "stdout",
     "output_type": "stream",
     "text": [
      "0\n",
      "1\n",
      "4\n",
      "5\n",
      "7\n",
      "10\n",
      "13\n",
      "21\n",
      "23\n"
     ]
    }
   ],
   "source": [
    "# 16.5 Insert an element into a binary search tree (in order). You may assume that the\n",
    "# binary search tree contains integers.\n",
    "class node:\n",
    "    def __init__(self, value):\n",
    "        self.value = value\n",
    "        self.left = None\n",
    "        self.right = None\n",
    "        \n",
    "    def insert(self, value):\n",
    "        if value < self.value:\n",
    "            if self.left:\n",
    "                self.left.insert(value)\n",
    "            else:\n",
    "                self.left = node(value)\n",
    "        else:\n",
    "            if self.right:\n",
    "                self.right.insert(value)\n",
    "            else:\n",
    "                self.right = node(value)\n",
    "                \n",
    "    def display(self):\n",
    "        if self.left:\n",
    "            self.left.display()\n",
    "        print(self.value)\n",
    "        if self.right:\n",
    "            self.right.display()\n",
    "\n",
    "A = [1, 4, 7, 0, 21, 23, 5, 13]\n",
    "\n",
    "tree = node(10)\n",
    "\n",
    "for a in A:\n",
    "    tree.insert(a)\n",
    "    \n",
    "tree.display()"
   ]
  },
  {
   "cell_type": "code",
   "execution_count": null,
   "metadata": {},
   "outputs": [],
   "source": []
  }
 ],
 "metadata": {
  "kernelspec": {
   "display_name": "Python 3",
   "language": "python",
   "name": "python3"
  },
  "language_info": {
   "codemirror_mode": {
    "name": "ipython",
    "version": 3
   },
   "file_extension": ".py",
   "mimetype": "text/x-python",
   "name": "python",
   "nbconvert_exporter": "python",
   "pygments_lexer": "ipython3",
   "version": "3.6.5"
  }
 },
 "nbformat": 4,
 "nbformat_minor": 2
}
