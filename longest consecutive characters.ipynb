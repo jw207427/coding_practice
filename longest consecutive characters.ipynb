{
 "cells": [
  {
   "cell_type": "code",
   "execution_count": 22,
   "metadata": {},
   "outputs": [
    {
     "name": "stdout",
     "output_type": "stream",
     "text": [
      "A 0\n",
      "B 2\n",
      "C 3\n",
      "D 4\n",
      "B 6\n",
      "E 9\n",
      "A 10\n"
     ]
    },
    {
     "data": {
      "text/plain": [
       "{3, 'B'}"
      ]
     },
     "execution_count": 22,
     "metadata": {},
     "output_type": "execute_result"
    }
   ],
   "source": [
    "#retunr the longest consecutive characters in a dict\n",
    "A = 'AABCDDBBBEA'\n",
    "\n",
    "def longest_consect(A):\n",
    "    index = 0\n",
    "    \n",
    "    letter = None\n",
    "    max_count = 0\n",
    "    while index < len(A):\n",
    "#         print(A[index], index)\n",
    "        a, index, count = recur(A, A[index], index, 0)\n",
    "        \n",
    "        if count > max_count:\n",
    "            max_count = count\n",
    "            letter = a\n",
    "        \n",
    "    return {letter, max_count}\n",
    "    \n",
    "\n",
    "def recur(A, a, i, count):\n",
    "    if i>=len(A):\n",
    "        return a, i, count\n",
    "    \n",
    "    if a != A[i]:\n",
    "        return a, i, count\n",
    "    return recur(A, a, i+1, count+1)\n",
    "    \n",
    "longest_consect(A)"
   ]
  },
  {
   "cell_type": "code",
   "execution_count": null,
   "metadata": {},
   "outputs": [],
   "source": []
  }
 ],
 "metadata": {
  "kernelspec": {
   "display_name": "Python 3",
   "language": "python",
   "name": "python3"
  },
  "language_info": {
   "codemirror_mode": {
    "name": "ipython",
    "version": 3
   },
   "file_extension": ".py",
   "mimetype": "text/x-python",
   "name": "python",
   "nbconvert_exporter": "python",
   "pygments_lexer": "ipython3",
   "version": "3.6.5"
  }
 },
 "nbformat": 4,
 "nbformat_minor": 2
}
