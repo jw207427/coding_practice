{
 "cells": [
  {
   "cell_type": "code",
   "execution_count": 22,
   "metadata": {},
   "outputs": [
    {
     "data": {
      "text/plain": [
       "[-8, -4, -3, -1, 5, 7, 9]"
      ]
     },
     "execution_count": 22,
     "metadata": {},
     "output_type": "execute_result"
    }
   ],
   "source": [
    "# selection sort is about finding the smallest value and move it to the front\n",
    "def selection_sort(A):\n",
    "    if not A:\n",
    "        return\n",
    "    \n",
    "    if len(A)<=1:\n",
    "        return A\n",
    "    \n",
    "    for i in range(len(A)):\n",
    "        minimum = i\n",
    "#         print(A[minimum])\n",
    "        \n",
    "        for j in range(i, len(A)):\n",
    "            if (A[j] < A[minimum]):\n",
    "#                 print(A[j], A[minimum])\n",
    "                minimum = j\n",
    "                \n",
    "#         print(A[minimum])\n",
    "        A[i], A[minimum] = A[minimum], A[i]\n",
    "#         print(A)\n",
    "        \n",
    "    return A\n",
    "\n",
    "A = [-1, 5, -4, 7, 9, -3, -8]\n",
    "\n",
    "selection_sort(A)"
   ]
  },
  {
   "cell_type": "code",
   "execution_count": null,
   "metadata": {},
   "outputs": [],
   "source": []
  },
  {
   "cell_type": "code",
   "execution_count": null,
   "metadata": {},
   "outputs": [],
   "source": []
  }
 ],
 "metadata": {
  "kernelspec": {
   "display_name": "Python 3",
   "language": "python",
   "name": "python3"
  },
  "language_info": {
   "codemirror_mode": {
    "name": "ipython",
    "version": 3
   },
   "file_extension": ".py",
   "mimetype": "text/x-python",
   "name": "python",
   "nbconvert_exporter": "python",
   "pygments_lexer": "ipython3",
   "version": "3.6.5"
  }
 },
 "nbformat": 4,
 "nbformat_minor": 2
}
