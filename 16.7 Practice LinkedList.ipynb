{
 "cells": [
  {
   "cell_type": "code",
   "execution_count": 15,
   "metadata": {},
   "outputs": [
    {
     "name": "stdout",
     "output_type": "stream",
     "text": [
      "1\n",
      "4\n",
      "6\n"
     ]
    }
   ],
   "source": [
    "# Insert a node into a sorted linked list (in order). (Don’t forget about what\n",
    "# happens when the new element is at the start or end!)\n",
    "class node:\n",
    "    def __init__(self, value):\n",
    "        self.value = value\n",
    "        self.next = None\n",
    "        \n",
    "    def insert(self, value):\n",
    "        if self.next:\n",
    "            self.next.insert(value)\n",
    "        else:\n",
    "            self.next = node(value)\n",
    "            \n",
    "    def display(self):\n",
    "        print(self.value)\n",
    "        if self.next:\n",
    "            self.next.display()\n",
    "            \n",
    "    def reverse(self):\n",
    "        if not self.next:\n",
    "            return self\n",
    "        else:\n",
    "            head = self\n",
    "            tail = self\n",
    "            curr = self.next\n",
    "            while curr:\n",
    "                next_node = curr.next\n",
    "                curr.next = head\n",
    "                head = curr\n",
    "                \n",
    "                curr = next_node\n",
    "            tail.next = None\n",
    "            return head\n",
    "            \n",
    "A = [4, 6]\n",
    "head = node(1)\n",
    "for a in A:\n",
    "    head.insert(a)\n",
    "    \n",
    "head.display()\n",
    "# print('\\n')\n",
    "# new = head.reverse()\n",
    "# new.display()"
   ]
  },
  {
   "cell_type": "code",
   "execution_count": 16,
   "metadata": {},
   "outputs": [
    {
     "name": "stdout",
     "output_type": "stream",
     "text": [
      "1\n",
      "4\n",
      "6\n",
      "7\n"
     ]
    }
   ],
   "source": [
    "#O(n)\n",
    "def insert_in_order(head, value):\n",
    "    new = node(value)\n",
    "    if (not head) or (new.value<head.value):\n",
    "        new.next = head\n",
    "        return new\n",
    "    \n",
    "    current = head\n",
    "#     print(current.value, new.value)\n",
    "    while (current.next) and (new.value > current.next.value):\n",
    "        current = current.next\n",
    "#         print(current.value)\n",
    "        \n",
    "    new.next = current.next\n",
    "    current.next = new\n",
    "    return head\n",
    "\n",
    "test = insert_in_order(head, 7)\n",
    "\n",
    "test.display()"
   ]
  },
  {
   "cell_type": "code",
   "execution_count": 8,
   "metadata": {},
   "outputs": [
    {
     "name": "stdout",
     "output_type": "stream",
     "text": [
      "1\n",
      "4\n",
      "6\n"
     ]
    }
   ],
   "source": [
    "head.display()\n",
    "    "
   ]
  },
  {
   "cell_type": "code",
   "execution_count": null,
   "metadata": {
    "collapsed": true
   },
   "outputs": [],
   "source": []
  }
 ],
 "metadata": {
  "kernelspec": {
   "display_name": "Python 3",
   "language": "python",
   "name": "python3"
  },
  "language_info": {
   "codemirror_mode": {
    "name": "ipython",
    "version": 3
   },
   "file_extension": ".py",
   "mimetype": "text/x-python",
   "name": "python",
   "nbconvert_exporter": "python",
   "pygments_lexer": "ipython3",
   "version": "3.6.3"
  }
 },
 "nbformat": 4,
 "nbformat_minor": 2
}
