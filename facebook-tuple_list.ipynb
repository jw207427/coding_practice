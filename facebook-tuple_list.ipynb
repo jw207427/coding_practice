{
 "cells": [
  {
   "cell_type": "code",
   "execution_count": 1,
   "metadata": {},
   "outputs": [
    {
     "data": {
      "text/plain": [
       "[(1, 1),\n",
       " (1, 2),\n",
       " (1, 3),\n",
       " (1, 4),\n",
       " (2, 1),\n",
       " (2, 2),\n",
       " (2, 3),\n",
       " (2, 4),\n",
       " (3, 1),\n",
       " (3, 2),\n",
       " (3, 3),\n",
       " (3, 4),\n",
       " (4, 1),\n",
       " (4, 2),\n",
       " (4, 3),\n",
       " (4, 4)]"
      ]
     },
     "execution_count": 1,
     "metadata": {},
     "output_type": "execute_result"
    }
   ],
   "source": [
    "#O(n^2)\n",
    "def tuple_list(A):\n",
    "    if not A or len(A)==0:\n",
    "        return\n",
    "    \n",
    "    tuplelist = []\n",
    "    for i in range(len(A)):\n",
    "        for j in range(len(A)):\n",
    "            tuplelist.append((A[i], A[j]))\n",
    "            \n",
    "    return tuplelist\n",
    "\n",
    "A = [1, 2, 3, 4]\n",
    "tuple_list(A)"
   ]
  },
  {
   "cell_type": "code",
   "execution_count": 2,
   "metadata": {},
   "outputs": [
    {
     "data": {
      "text/plain": [
       "[(1, 1),\n",
       " (1, 2),\n",
       " (1, 3),\n",
       " (1, 4),\n",
       " (2, 2),\n",
       " (2, 3),\n",
       " (2, 4),\n",
       " (3, 3),\n",
       " (3, 4),\n",
       " (4, 4)]"
      ]
     },
     "execution_count": 2,
     "metadata": {},
     "output_type": "execute_result"
    }
   ],
   "source": [
    "#O(nlogn)\n",
    "def tuple_list_nonrepeat(A):\n",
    "    if not A or len(A)==0:\n",
    "        return\n",
    "    \n",
    "    tuplelist = []\n",
    "    for i in range(len(A)):\n",
    "        for j in range(i, len(A)):\n",
    "            tuplelist.append((A[i], A[j]))\n",
    "            \n",
    "    return tuplelist\n",
    "\n",
    "A = [1, 2, 3, 4]\n",
    "tuple_list_nonrepeat(A)"
   ]
  },
  {
   "cell_type": "code",
   "execution_count": null,
   "metadata": {},
   "outputs": [],
   "source": []
  }
 ],
 "metadata": {
  "kernelspec": {
   "display_name": "Python 3",
   "language": "python",
   "name": "python3"
  },
  "language_info": {
   "codemirror_mode": {
    "name": "ipython",
    "version": 3
   },
   "file_extension": ".py",
   "mimetype": "text/x-python",
   "name": "python",
   "nbconvert_exporter": "python",
   "pygments_lexer": "ipython3",
   "version": "3.6.5"
  }
 },
 "nbformat": 4,
 "nbformat_minor": 2
}
