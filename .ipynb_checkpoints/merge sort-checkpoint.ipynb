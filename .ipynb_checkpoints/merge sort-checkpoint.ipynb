{
 "cells": [
  {
   "cell_type": "code",
   "execution_count": 1,
   "metadata": {},
   "outputs": [
    {
     "data": {
      "text/plain": [
       "[1, 2, 3, 4, 5, 6, 7, 8]"
      ]
     },
     "execution_count": 1,
     "metadata": {},
     "output_type": "execute_result"
    }
   ],
   "source": [
    "def merge_sort(A):\n",
    "    if len(A)>1:\n",
    "        mid = len(A)//2\n",
    "#         print(len(A), mid)\n",
    "        left = A[0:mid]\n",
    "#         print(left)\n",
    "        right = A[mid:]\n",
    "#         print(right)\n",
    "        merge_sort(left)\n",
    "        merge_sort(right)\n",
    "        \n",
    "        i = 0\n",
    "        j = 0\n",
    "        while i<len(left) and j<len(right):\n",
    "            if left[i]<right[j]:\n",
    "                A[i+j] = left[i]\n",
    "                i+=1\n",
    "            else:\n",
    "                A[i+j] = right[j]\n",
    "                j+=1\n",
    "        \n",
    "        while i<len(left):\n",
    "            A[i+j] = left[i]\n",
    "            i+=1\n",
    "            \n",
    "        while j<len(right):\n",
    "            A[i+j] = right[j]\n",
    "            j+=1\n",
    "    return A\n",
    "A = [6, 5, 3, 1,8,7,2, 4]\n",
    "merge_sort(A)"
   ]
  },
  {
   "cell_type": "code",
   "execution_count": 6,
   "metadata": {},
   "outputs": [
    {
     "data": {
      "text/plain": [
       "[-1, 0, 1, 2, 3, 4, 6]"
      ]
     },
     "execution_count": 6,
     "metadata": {},
     "output_type": "execute_result"
    }
   ],
   "source": [
    "def merge_sort2(A):\n",
    "    if not A:\n",
    "        return\n",
    "    if len(A)<=1:\n",
    "        return A\n",
    "    \n",
    "    mid = len(A)//2\n",
    "    \n",
    "    left = A[:mid]\n",
    "    right = A[mid:]\n",
    "    \n",
    "    merge_sort2(left)\n",
    "    merge_sort2(right)\n",
    "    \n",
    "    i =0\n",
    "    j = 0\n",
    "    \n",
    "    while i<len(left) and j<len(right):\n",
    "        if left[i]<right[j]:\n",
    "            A[i+j] = left[i]\n",
    "            i+=1\n",
    "        else:\n",
    "            A[i+j] = right[j]\n",
    "            j+=1\n",
    "            \n",
    "    while i<len(left):\n",
    "        A[i+j] = left[i]\n",
    "        i+=1\n",
    "    while j<len(right):\n",
    "        A[i+j] = right[j]\n",
    "        j+=1\n",
    "    return A\n",
    "\n",
    "A = [6, -1, 0, 4, 3, 1, 2]\n",
    "\n",
    "merge_sort2(A)\n",
    "    \n"
   ]
  },
  {
   "cell_type": "code",
   "execution_count": 1,
   "metadata": {},
   "outputs": [
    {
     "data": {
      "text/plain": [
       "[-1, 0, 1, 2, 3, 4, 6]"
      ]
     },
     "execution_count": 1,
     "metadata": {},
     "output_type": "execute_result"
    }
   ],
   "source": [
    "def merge_sort3(A):\n",
    "    if not A:\n",
    "        return\n",
    "    if len(A)<=1:\n",
    "        return A\n",
    "    \n",
    "    mid = len(A)//2\n",
    "    \n",
    "    left = merge_sort3(A[:mid])\n",
    "    right = merge_sort3(A[mid:])\n",
    "    \n",
    "    i =0\n",
    "    j = 0\n",
    "    \n",
    "    while i<len(left) and j<len(right):\n",
    "        if left[i]<right[j]:\n",
    "            A[i+j] = left[i]\n",
    "            i+=1\n",
    "        else:\n",
    "            A[i+j] = right[j]\n",
    "            j+=1\n",
    "            \n",
    "    while i<len(left):\n",
    "        A[i+j] = left[i]\n",
    "        i+=1\n",
    "    while j<len(right):\n",
    "        A[i+j] = right[j]\n",
    "        j+=1\n",
    "    return A\n",
    "\n",
    "A = [6, -1, 0, 4, 3, 1, 2]\n",
    "\n",
    "merge_sort3(A)\n",
    "    \n"
   ]
  },
  {
   "cell_type": "code",
   "execution_count": null,
   "metadata": {
    "collapsed": true
   },
   "outputs": [],
   "source": []
  }
 ],
 "metadata": {
  "kernelspec": {
   "display_name": "Python 3",
   "language": "python",
   "name": "python3"
  },
  "language_info": {
   "codemirror_mode": {
    "name": "ipython",
    "version": 3
   },
   "file_extension": ".py",
   "mimetype": "text/x-python",
   "name": "python",
   "nbconvert_exporter": "python",
   "pygments_lexer": "ipython3",
   "version": "3.6.3"
  }
 },
 "nbformat": 4,
 "nbformat_minor": 2
}
