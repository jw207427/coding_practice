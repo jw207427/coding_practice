{
 "cells": [
  {
   "cell_type": "code",
   "execution_count": 29,
   "metadata": {},
   "outputs": [
    {
     "name": "stdout",
     "output_type": "stream",
     "text": [
      "0\n",
      "0\n",
      "1\n",
      "0\n",
      "1\n",
      "1\n"
     ]
    }
   ],
   "source": [
    "# 16.8 “Sort” a linked list that contains just 0s and 1s. That is, modify the list such that\n",
    "# all 0s come before all 1s.\n",
    "class node:\n",
    "    def __init__(self, value):\n",
    "        self.value = value\n",
    "        self.next = None\n",
    "        \n",
    "    def insert(self, value):\n",
    "        if self.next:\n",
    "            self.next.insert(value)\n",
    "        else:\n",
    "            self.next = node(value)\n",
    "            \n",
    "    def display(self):\n",
    "        print(self.value)\n",
    "        if self.next:\n",
    "            self.next.display()\n",
    "            \n",
    "A = [0, 1, 0, 1, 1]\n",
    "head = node(0)\n",
    "for a in A:\n",
    "    head.insert(a)\n",
    "    \n",
    "head.display()"
   ]
  },
  {
   "cell_type": "code",
   "execution_count": 20,
   "metadata": {},
   "outputs": [
    {
     "name": "stdout",
     "output_type": "stream",
     "text": [
      "0\n",
      "0\n",
      "0\n",
      "1\n",
      "1\n",
      "1\n"
     ]
    }
   ],
   "source": [
    "#build two list O(n)\n",
    "def sort_zero_and_one(head):\n",
    "    current = head\n",
    "    zero = None\n",
    "    one = None\n",
    "    \n",
    "    while current:\n",
    "        if current.value ==0:\n",
    "            if zero:\n",
    "                zero.insert(0)\n",
    "            else:\n",
    "                zero = node(0)\n",
    "        else:\n",
    "            if one:\n",
    "                one.insert(1)\n",
    "            else:\n",
    "                one = node(1)\n",
    "        current = current.next\n",
    "              \n",
    "    if not zero:\n",
    "        return one\n",
    "    elif not one:\n",
    "        return zero\n",
    "    else:\n",
    "        loop = zero\n",
    "        while loop.next:\n",
    "            loop=loop.next\n",
    "        loop.next = one\n",
    "        return zero\n",
    "    \n",
    "test = sort_zero_and_one(head)\n",
    "test.display()"
   ]
  },
  {
   "cell_type": "code",
   "execution_count": 19,
   "metadata": {},
   "outputs": [
    {
     "name": "stdout",
     "output_type": "stream",
     "text": [
      "0\n",
      "0\n",
      "0\n",
      "1\n",
      "1\n",
      "1\n"
     ]
    }
   ],
   "source": [
    "#count number of zeros O(n)\n",
    "def sort_zero_and_one2(head):\n",
    "    #k is number of zeros\n",
    "    k = 0\n",
    "    current = head\n",
    "    while current:\n",
    "        if current.value ==0:\n",
    "            k+=1\n",
    "            \n",
    "        current = current.next\n",
    "    \n",
    "    current = head\n",
    "    while current:\n",
    "        if k>0:\n",
    "            current.value = 0\n",
    "            k-=1\n",
    "        else:\n",
    "            current.value = 1\n",
    "        current = current.next\n",
    "        \n",
    "    return head\n",
    "        \n",
    "test = sort_zero_and_one2(head)\n",
    "test.display()"
   ]
  },
  {
   "cell_type": "code",
   "execution_count": 41,
   "metadata": {},
   "outputs": [
    {
     "name": "stdout",
     "output_type": "stream",
     "text": [
      "0\n",
      "0\n",
      "0\n",
      "1\n",
      "1\n",
      "1\n"
     ]
    }
   ],
   "source": [
    "#extend head and tail O(n)\n",
    "def sort_zero_and_one3(node):\n",
    "    head = node\n",
    "    tail = node\n",
    "    node = node.next\n",
    "#     print(node.value, head.value, tail.value)\n",
    "    while node:\n",
    "#         print(node.value)\n",
    "        next_node = node.next\n",
    "        if node.value == 0:\n",
    "            node.next = head\n",
    "            head = node\n",
    "        else:\n",
    "            tail.next = node\n",
    "            tail = node\n",
    "        \n",
    "#         print(node.value, head.value, tail.value)\n",
    "        node = next_node\n",
    "    \n",
    "    tail.next = None\n",
    "    return head\n",
    "\n",
    "A = [0, 1, 0, 1, 1]\n",
    "note = node(0)\n",
    "for a in A:\n",
    "    note.insert(a)\n",
    "    \n",
    "# note.display()\n",
    "test = sort_zero_and_one3(note)\n",
    "test.display()"
   ]
  },
  {
   "cell_type": "code",
   "execution_count": 69,
   "metadata": {},
   "outputs": [
    {
     "name": "stdout",
     "output_type": "stream",
     "text": [
      "0\n",
      "0\n",
      "0\n",
      "1\n",
      "1\n",
      "1\n"
     ]
    }
   ],
   "source": [
    "#swap technique O(n)\n",
    "def sort_zero_and_one4(node):\n",
    "    p = None\n",
    "    q = None\n",
    "    curr = node\n",
    "    zero_flag = False\n",
    "    while curr:\n",
    "        if (curr.value == 1) and (not p):\n",
    "            p = curr\n",
    "#             print(p.value)\n",
    "            zero_flag = True\n",
    "            \n",
    "        if curr.value == 0 and zero_flag:\n",
    "            q = curr\n",
    "#             print(q.value)\n",
    "            \n",
    "        if p and q:\n",
    "            temp = p.value\n",
    "#             print(temp)\n",
    "            p.value = q.value\n",
    "            q.value = temp\n",
    "#             print(q.value)\n",
    "#             node.display()\n",
    "            p = p.next\n",
    "            q = None\n",
    "        \n",
    "        curr = curr.next\n",
    "            \n",
    "    return node\n",
    "        \n",
    "A = [0, 1, 0, 1, 1]\n",
    "note = node(0)\n",
    "for a in A:\n",
    "    note.insert(a)\n",
    "    \n",
    "# note.display()\n",
    "test = sort_zero_and_one4(note)\n",
    "test.display()"
   ]
  },
  {
   "cell_type": "code",
   "execution_count": null,
   "metadata": {},
   "outputs": [],
   "source": []
  }
 ],
 "metadata": {
  "kernelspec": {
   "display_name": "Python 3",
   "language": "python",
   "name": "python3"
  },
  "language_info": {
   "codemirror_mode": {
    "name": "ipython",
    "version": 3
   },
   "file_extension": ".py",
   "mimetype": "text/x-python",
   "name": "python",
   "nbconvert_exporter": "python",
   "pygments_lexer": "ipython3",
   "version": "3.6.5"
  }
 },
 "nbformat": 4,
 "nbformat_minor": 2
}
