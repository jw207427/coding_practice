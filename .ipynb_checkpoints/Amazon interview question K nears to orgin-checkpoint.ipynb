{
 "cells": [
  {
   "cell_type": "code",
   "execution_count": 5,
   "metadata": {},
   "outputs": [
    {
     "data": {
      "text/plain": [
       "[[(-1, 0)], [(0, -2)], [(-2, -3), (3, 2)], [(-2, 4)]]"
      ]
     },
     "execution_count": 5,
     "metadata": {},
     "output_type": "execute_result"
    }
   ],
   "source": [
    "#sorting method\n",
    "A = [(-2,4), (0,-2), (-1,0), (3,5), (-2,-3), (3,2)]\n",
    "\n",
    "k = 4\n",
    "def closest_k(A, k):\n",
    "    #loop through and store distance\n",
    "    d = {}\n",
    "    for a in A:\n",
    "        distance = (a[0]**2+a[1]**2)\n",
    "        if distance not in d:\n",
    "            d[distance] = []\n",
    "        d[distance].append(a)\n",
    "        \n",
    "    output = []\n",
    "    for key in sorted(d.keys()):   #sort O(nlogn)\n",
    "        output.append(d[key])\n",
    "        \n",
    "    return output[:k]\n",
    "\n",
    "\n",
    "closest_k(A, k)    \n",
    "    "
   ]
  },
  {
   "cell_type": "code",
   "execution_count": 26,
   "metadata": {},
   "outputs": [
    {
     "name": "stdout",
     "output_type": "stream",
     "text": [
      "(3, 2)\n",
      "(-2, -3)\n",
      "(-1, 0)\n",
      "(0, -2)\n"
     ]
    }
   ],
   "source": [
    "# Max heap method.  putting values in a list of index where the highest priority item is in the front O(n+(n-k)log(k))\n",
    "def MaxHeapify(arr, i, n, index):\n",
    "    largest = i\n",
    "    l = 2 * i + 1\n",
    "    r = 2 * i + 2\n",
    "    \n",
    "    if l < n and arr[l] > arr[largest]:  \n",
    "        largest = l \n",
    "    if r < n and arr[r] > arr[largest]:  \n",
    "        largest = r\n",
    "    \n",
    "#     print(largest)\n",
    "    if largest != i: \n",
    "#         print(arr[i], arr[largest])\n",
    "#         print(i, largest)\n",
    "        arr[i], arr[largest] = arr[largest], arr[i]\n",
    "        index[i], index[largest] = index[largest], index[i]\n",
    "        \n",
    "        MaxHeapify(arr, largest, n, index) \n",
    "\n",
    "def build_max_heap(A, index):\n",
    "    for i in range(len(A) // 2, -1, -1):\n",
    "#         print(i)\n",
    "        MaxHeapify(A, i, len(A), index)\n",
    "        \n",
    "def closest_k_heap(A, k):\n",
    "    d = []\n",
    "    for a in A: #O(n)\n",
    "        d.append(a[0]**2+a[1]**2)\n",
    "    \n",
    "    #build a max heap of k\n",
    "    heap = []\n",
    "    index = []\n",
    "    for i in range(k): #O(k)\n",
    "        heap.append(d[i])\n",
    "        index.append(i)\n",
    "    \n",
    "    build_max_heap(heap, index) #log(k)\n",
    "    \n",
    "    for j in range(k, len(d)): #O((n-k)log(k))\n",
    "        if d[j]<heap[0]:\n",
    "            heap[0] = d[j]\n",
    "            index[0] = j\n",
    "#         print(heap[0], index[0])\n",
    "        build_max_heap(heap, index)\n",
    "    \n",
    "#     print(heap, index)\n",
    "    for x in index: #O(k)\n",
    "        print(A[x])\n",
    "\n",
    "#sorting method\n",
    "A = [(-2,4), (0,-2), (-1,0), (3,5), (-2,-3), (3,2)]\n",
    "\n",
    "k = 4\n",
    "\n",
    "closest_k_heap(A, k)"
   ]
  },
  {
   "cell_type": "code",
   "execution_count": null,
   "metadata": {},
   "outputs": [],
   "source": []
  },
  {
   "cell_type": "code",
   "execution_count": null,
   "metadata": {},
   "outputs": [],
   "source": []
  }
 ],
 "metadata": {
  "kernelspec": {
   "display_name": "Python 3",
   "language": "python",
   "name": "python3"
  },
  "language_info": {
   "codemirror_mode": {
    "name": "ipython",
    "version": 3
   },
   "file_extension": ".py",
   "mimetype": "text/x-python",
   "name": "python",
   "nbconvert_exporter": "python",
   "pygments_lexer": "ipython3",
   "version": "3.6.5"
  }
 },
 "nbformat": 4,
 "nbformat_minor": 2
}
