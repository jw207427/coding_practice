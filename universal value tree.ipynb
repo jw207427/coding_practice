{
 "cells": [
  {
   "cell_type": "markdown",
   "metadata": {},
   "source": [
    "1) return # of universal value tree inside of a tree.  universal value means the node and it's left and right node are the same\n",
    "if child is null is also counts.  if root is null also count\n"
   ]
  },
  {
   "cell_type": "code",
   "execution_count": 36,
   "metadata": {},
   "outputs": [
    {
     "name": "stdout",
     "output_type": "stream",
     "text": [
      "1\n",
      "2\n",
      "1\n",
      "2\n",
      "2\n",
      "2\n",
      "2\n",
      "3\n",
      "3\n",
      "3\n"
     ]
    }
   ],
   "source": [
    "# create a universal tree first\n",
    "\n",
    "class node:\n",
    "    def __init__(self, value):\n",
    "        self.value = value\n",
    "        self.left = None\n",
    "        self.right = None\n",
    "        \n",
    "    def insert(self, value):\n",
    "        if not self.left:\n",
    "            self.left = node(value)\n",
    "        elif not self.right:\n",
    "            self.right = node(value)\n",
    "        elif value < self.value:\n",
    "            self.left.insert(value)\n",
    "        else:\n",
    "            self.right.insert(value)\n",
    "    \n",
    "    def display(self):\n",
    "        if self.left:\n",
    "            self.left.display()\n",
    "        print(self.value)\n",
    "        if self.right:\n",
    "            self.right.display()\n",
    "            \n",
    "            \n",
    "tree = node(2)\n",
    "\n",
    "tree.insert(2)\n",
    "tree.insert(2)\n",
    "tree.insert(2)\n",
    "tree.insert(1)\n",
    "tree.insert(1)\n",
    "tree.insert(3)\n",
    "tree.insert(3)\n",
    "tree.insert(3)\n",
    "tree.insert(2)\n",
    "\n",
    "tree.display()\n",
    "\n",
    "        \n",
    "    \n"
   ]
  },
  {
   "cell_type": "code",
   "execution_count": 37,
   "metadata": {},
   "outputs": [
    {
     "data": {
      "text/plain": [
       "True"
      ]
     },
     "execution_count": 37,
     "metadata": {},
     "output_type": "execute_result"
    }
   ],
   "source": [
    "def is_node_universal(node):\n",
    "    if(not node.left) and (not node.right):\n",
    "        return True\n",
    "    \n",
    "    if (not node.left) or (not node.right):\n",
    "        return False\n",
    "    \n",
    "    if(node.value==node.left.value==node.right.value):\n",
    "        return True\n",
    "    else:\n",
    "        return False\n",
    "    \n",
    "    \n",
    "is_node_universal(tree)"
   ]
  },
  {
   "cell_type": "code",
   "execution_count": 38,
   "metadata": {},
   "outputs": [
    {
     "data": {
      "text/plain": [
       "7"
      ]
     },
     "execution_count": 38,
     "metadata": {},
     "output_type": "execute_result"
    }
   ],
   "source": [
    "def count_unival(node):\n",
    "    if not node:\n",
    "        return 0\n",
    "    total = count_unival(node.left) + count_unival(node.right)\n",
    "    \n",
    "    if is_node_universal(node):\n",
    "        total += 1\n",
    "    return total\n",
    "\n",
    "count_unival(tree)\n"
   ]
  },
  {
   "cell_type": "code",
   "execution_count": null,
   "metadata": {
    "collapsed": true
   },
   "outputs": [],
   "source": []
  }
 ],
 "metadata": {
  "kernelspec": {
   "display_name": "Python 3",
   "language": "python",
   "name": "python3"
  },
  "language_info": {
   "codemirror_mode": {
    "name": "ipython",
    "version": 3
   },
   "file_extension": ".py",
   "mimetype": "text/x-python",
   "name": "python",
   "nbconvert_exporter": "python",
   "pygments_lexer": "ipython3",
   "version": "3.6.3"
  }
 },
 "nbformat": 4,
 "nbformat_minor": 2
}
