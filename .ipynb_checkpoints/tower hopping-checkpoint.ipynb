{
 "cells": [
  {
   "cell_type": "code",
   "execution_count": 6,
   "metadata": {},
   "outputs": [
    {
     "data": {
      "text/plain": [
       "True"
      ]
     },
     "execution_count": 6,
     "metadata": {},
     "output_type": "execute_result"
    }
   ],
   "source": [
    "# given array of postive integer.  no negative. \n",
    "#each integer represent # of steps to take.  Is there are way to get out of the aray?\n",
    "A = [2, 2, 0, 2, 0]\n",
    "\n",
    "def is_hoppable(A):\n",
    "    if not A:\n",
    "        return False\n",
    "    \n",
    "    return recur(A, 0)\n",
    "\n",
    "def recur(A, i):\n",
    "    if i >= len(A):\n",
    "        return True\n",
    "    \n",
    "    if A[i]<=0:\n",
    "        return False\n",
    "    \n",
    "    for j in range(A[i], 0, -1):\n",
    "        if recur(A, i+j):\n",
    "            return True\n",
    "    return False\n",
    "is_hoppable(A)"
   ]
  },
  {
   "cell_type": "code",
   "execution_count": 11,
   "metadata": {},
   "outputs": [
    {
     "name": "stdout",
     "output_type": "stream",
     "text": [
      "3 ============\n",
      "4 ============\n"
     ]
    },
    {
     "data": {
      "text/plain": [
       "True"
      ]
     },
     "execution_count": 11,
     "metadata": {},
     "output_type": "execute_result"
    }
   ],
   "source": [
    "def is_hoppable2(A):\n",
    "    curr = 0\n",
    "    \n",
    "    while True:\n",
    "        if curr+A[curr] >= len(A):\n",
    "            return True\n",
    "        if A[curr] <= 0:\n",
    "            return False\n",
    "        curr = next_step(curr, A)\n",
    "        print(curr, '============')\n",
    "\n",
    "\n",
    "\n",
    "def next_step(index, A):\n",
    "    \n",
    "    maxi = 0\n",
    "    next_index = 0\n",
    "    \n",
    "    for i in range(1, A[index]+1):\n",
    "        if A[index + i] >= maxi:\n",
    "            maxi = A[index + i]\n",
    "            next_index = index+i\n",
    "    \n",
    "    return next_index\n",
    "A = [3, 2, 0, 2, 4, 0, 0, 0]\n",
    "is_hoppable2(A)"
   ]
  },
  {
   "cell_type": "code",
   "execution_count": null,
   "metadata": {
    "collapsed": true
   },
   "outputs": [],
   "source": []
  }
 ],
 "metadata": {
  "kernelspec": {
   "display_name": "Python 3",
   "language": "python",
   "name": "python3"
  },
  "language_info": {
   "codemirror_mode": {
    "name": "ipython",
    "version": 3
   },
   "file_extension": ".py",
   "mimetype": "text/x-python",
   "name": "python",
   "nbconvert_exporter": "python",
   "pygments_lexer": "ipython3",
   "version": "3.6.3"
  }
 },
 "nbformat": 4,
 "nbformat_minor": 2
}
