{
 "cells": [
  {
   "cell_type": "code",
   "execution_count": 2,
   "metadata": {},
   "outputs": [
    {
     "name": "stdout",
     "output_type": "stream",
     "text": [
      "1\n",
      "4\n",
      "10\n",
      "11\n"
     ]
    },
    {
     "data": {
      "text/plain": [
       "26"
      ]
     },
     "execution_count": 2,
     "metadata": {},
     "output_type": "execute_result"
    }
   ],
   "source": [
    "# 16.6 Given a binary search tree which contains integers as values, calculate the sum of\n",
    "# all the numbers.\n",
    "class node:\n",
    "    def __init__(self, value):\n",
    "        self.value = value\n",
    "        self.left = None\n",
    "        self.right = None\n",
    "        \n",
    "    def insert(self, value):\n",
    "        if value < self.value:\n",
    "            if self.left:\n",
    "                self.left.insert(value)\n",
    "            else:\n",
    "                self.left = node(value)\n",
    "        else:\n",
    "            if self.right:\n",
    "                self.right.insert(value)\n",
    "            else:\n",
    "                self.right = node(value)\n",
    "                \n",
    "    def sum_node(self):\n",
    "        total = self.value\n",
    "        if self.left:\n",
    "            total += self.left.sum_node()\n",
    "        \n",
    "        if self.right:\n",
    "            total += self.right.sum_node()\n",
    "            \n",
    "        return total\n",
    "                \n",
    "    def display(self):\n",
    "        if self.left:\n",
    "            self.left.display()\n",
    "        print(self.value)\n",
    "        if self.right:\n",
    "            self.right.display()\n",
    "\n",
    "A = [1, 4, 11]\n",
    "\n",
    "tree = node(10)\n",
    "\n",
    "for a in A:\n",
    "    tree.insert(a)\n",
    "    \n",
    "tree.display()\n",
    "\n",
    "tree.sum_node()"
   ]
  },
  {
   "cell_type": "code",
   "execution_count": null,
   "metadata": {},
   "outputs": [],
   "source": []
  }
 ],
 "metadata": {
  "kernelspec": {
   "display_name": "Python 3",
   "language": "python",
   "name": "python3"
  },
  "language_info": {
   "codemirror_mode": {
    "name": "ipython",
    "version": 3
   },
   "file_extension": ".py",
   "mimetype": "text/x-python",
   "name": "python",
   "nbconvert_exporter": "python",
   "pygments_lexer": "ipython3",
   "version": "3.6.5"
  }
 },
 "nbformat": 4,
 "nbformat_minor": 2
}
