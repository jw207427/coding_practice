{
 "cells": [
  {
   "cell_type": "code",
   "execution_count": 16,
   "metadata": {},
   "outputs": [
    {
     "data": {
      "text/plain": [
       "2"
      ]
     },
     "execution_count": 16,
     "metadata": {},
     "output_type": "execute_result"
    }
   ],
   "source": [
    "#find number of subset sum to given value k\n",
    "A = [2, 4, 6, 10]\n",
    "k = 16\n",
    "\n",
    "def count_subset_eq(A, k):\n",
    "    return rec(A, k, 0)\n",
    "\n",
    "def rec(A, k, i):\n",
    "    if k == 0:\n",
    "        return 1\n",
    "    elif k < 0:\n",
    "        return 0\n",
    "    elif i >=len(A):\n",
    "        return 0\n",
    "    \n",
    "    elif k < A[i]:\n",
    "        return rec(A, k, i+1)\n",
    "    else:\n",
    "        return rec(A, k-A[i], i+1)+rec(A, k, i+1)\n",
    "    \n",
    "\n",
    "count_subset_eq(A, k)"
   ]
  },
  {
   "cell_type": "code",
   "execution_count": 17,
   "metadata": {},
   "outputs": [
    {
     "name": "stdout",
     "output_type": "stream",
     "text": [
      "{'4-3': 0}\n",
      "{'4-3': 0, '10-3': 1}\n",
      "{'4-3': 0, '10-3': 1, '10-2': 1}\n",
      "{'4-3': 0, '10-3': 1, '10-2': 1, '8-3': 0}\n",
      "{'4-3': 0, '10-3': 1, '10-2': 1, '8-3': 0, '14-3': 0}\n",
      "{'4-3': 0, '10-3': 1, '10-2': 1, '8-3': 0, '14-3': 0, '14-2': 0}\n",
      "{'4-3': 0, '10-3': 1, '10-2': 1, '8-3': 0, '14-3': 0, '14-2': 0, '14-1': 1}\n",
      "{'4-3': 0, '10-3': 1, '10-2': 1, '8-3': 0, '14-3': 0, '14-2': 0, '14-1': 1, '6-3': 0}\n",
      "{'4-3': 0, '10-3': 1, '10-2': 1, '8-3': 0, '14-3': 0, '14-2': 0, '14-1': 1, '6-3': 0, '12-3': 0}\n",
      "{'4-3': 0, '10-3': 1, '10-2': 1, '8-3': 0, '14-3': 0, '14-2': 0, '14-1': 1, '6-3': 0, '12-3': 0, '12-2': 0}\n",
      "{'4-3': 0, '10-3': 1, '10-2': 1, '8-3': 0, '14-3': 0, '14-2': 0, '14-1': 1, '6-3': 0, '12-3': 0, '12-2': 0}\n",
      "{'4-3': 0, '10-3': 1, '10-2': 1, '8-3': 0, '14-3': 0, '14-2': 0, '14-1': 1, '6-3': 0, '12-3': 0, '12-2': 0, '16-3': 0}\n",
      "{'4-3': 0, '10-3': 1, '10-2': 1, '8-3': 0, '14-3': 0, '14-2': 0, '14-1': 1, '6-3': 0, '12-3': 0, '12-2': 0, '16-3': 0, '16-2': 1}\n",
      "{'4-3': 0, '10-3': 1, '10-2': 1, '8-3': 0, '14-3': 0, '14-2': 0, '14-1': 1, '6-3': 0, '12-3': 0, '12-2': 0, '16-3': 0, '16-2': 1, '16-1': 1}\n",
      "{'4-3': 0, '10-3': 1, '10-2': 1, '8-3': 0, '14-3': 0, '14-2': 0, '14-1': 1, '6-3': 0, '12-3': 0, '12-2': 0, '16-3': 0, '16-2': 1, '16-1': 1, '16-0': 2}\n"
     ]
    },
    {
     "data": {
      "text/plain": [
       "2"
      ]
     },
     "execution_count": 17,
     "metadata": {},
     "output_type": "execute_result"
    }
   ],
   "source": [
    "#with dynamic programing\n",
    "def count_subset(A, k):\n",
    "    mem = {}\n",
    "    return recursive(A, k, 0, mem)\n",
    "\n",
    "def recursive(A, k, i, mem):\n",
    "    key = str(k)+'-'+str(i)\n",
    "    if k == 0:\n",
    "        return 1\n",
    "    elif k < 0:\n",
    "        return 0\n",
    "    elif i >=len(A):\n",
    "        return 0\n",
    "    \n",
    "    elif k < A[i]:\n",
    "        to_return = recursive(A, k, i+1, mem)\n",
    "    else:\n",
    "        to_return = recursive(A, k-A[i], i+1, mem)+\\\n",
    "        recursive(A, k, i+1, mem)\n",
    "    \n",
    "    mem[key] = to_return\n",
    "    print(mem)\n",
    "    return to_return\n",
    "    \n",
    "count_subset(A, k)"
   ]
  },
  {
   "cell_type": "code",
   "execution_count": null,
   "metadata": {},
   "outputs": [],
   "source": []
  }
 ],
 "metadata": {
  "kernelspec": {
   "display_name": "Python 3",
   "language": "python",
   "name": "python3"
  },
  "language_info": {
   "codemirror_mode": {
    "name": "ipython",
    "version": 3
   },
   "file_extension": ".py",
   "mimetype": "text/x-python",
   "name": "python",
   "nbconvert_exporter": "python",
   "pygments_lexer": "ipython3",
   "version": "3.6.5"
  }
 },
 "nbformat": 4,
 "nbformat_minor": 2
}
