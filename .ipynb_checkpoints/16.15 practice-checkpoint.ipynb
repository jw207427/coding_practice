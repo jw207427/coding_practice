{
 "cells": [
  {
   "cell_type": "code",
   "execution_count": 30,
   "metadata": {},
   "outputs": [
    {
     "data": {
      "text/plain": [
       "5"
      ]
     },
     "execution_count": 30,
     "metadata": {},
     "output_type": "execute_result"
    }
   ],
   "source": [
    "#16.15 Implement binary search. That is, given a sorted array of integers \n",
    "#and a value, find the location of that value.\n",
    "s = [2, 5, 7, 9, 9, 10, 16]\n",
    "x = 10\n",
    "\n",
    "def binary_search(s, x):\n",
    "    if (x not in s) or (len(s)==0):\n",
    "        return\n",
    "    \n",
    "    mid = int(len(s)/2)\n",
    "    if x == s[mid]:\n",
    "        return mid\n",
    "    elif x < s[mid]:\n",
    "        return binary_search(s[0:mid], x)\n",
    "    else:\n",
    "        return mid+binary_search(s[mid:], x)\n",
    "\n",
    "\n",
    "binary_search(s, x)\n",
    "        \n"
   ]
  },
  {
   "cell_type": "code",
   "execution_count": 38,
   "metadata": {},
   "outputs": [
    {
     "data": {
      "text/plain": [
       "5"
      ]
     },
     "execution_count": 38,
     "metadata": {},
     "output_type": "execute_result"
    }
   ],
   "source": [
    "def search(s, x, left, right):\n",
    "    if right<left:\n",
    "        return\n",
    "    \n",
    "    mid = int((left+right)/2)\n",
    "    if x==s[mid]:\n",
    "        return mid\n",
    "    elif x < s[mid]: #left\n",
    "        return search(s, x, left, mid-1)\n",
    "    else: #right\n",
    "        return search(s, x, mid+1, right)\n",
    "\n",
    "search(s, x, 0, len(s)-1)"
   ]
  },
  {
   "cell_type": "code",
   "execution_count": null,
   "metadata": {
    "collapsed": true
   },
   "outputs": [],
   "source": []
  }
 ],
 "metadata": {
  "kernelspec": {
   "display_name": "Python 3",
   "language": "python",
   "name": "python3"
  },
  "language_info": {
   "codemirror_mode": {
    "name": "ipython",
    "version": 3
   },
   "file_extension": ".py",
   "mimetype": "text/x-python",
   "name": "python",
   "nbconvert_exporter": "python",
   "pygments_lexer": "ipython3",
   "version": "3.6.3"
  }
 },
 "nbformat": 4,
 "nbformat_minor": 2
}
