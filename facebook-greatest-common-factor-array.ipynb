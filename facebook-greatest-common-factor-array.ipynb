{
 "cells": [
  {
   "cell_type": "code",
   "execution_count": 22,
   "metadata": {},
   "outputs": [
    {
     "data": {
      "text/plain": [
       "5"
      ]
     },
     "execution_count": 22,
     "metadata": {},
     "output_type": "execute_result"
    }
   ],
   "source": [
    "def gcf(a, b):\n",
    "    if a<0 or b<0:\n",
    "        return\n",
    "\n",
    "    if b==0:\n",
    "        return a\n",
    "    return gcf(b, a%b)\n",
    "    \n",
    "gcf(35, 15)"
   ]
  },
  {
   "cell_type": "code",
   "execution_count": 24,
   "metadata": {},
   "outputs": [
    {
     "data": {
      "text/plain": [
       "8"
      ]
     },
     "execution_count": 24,
     "metadata": {},
     "output_type": "execute_result"
    }
   ],
   "source": [
    "def gcf_array(A):\n",
    "    if not A or len(A)==0:\n",
    "        return\n",
    "    \n",
    "    if len(A)==1:\n",
    "        return A[0]\n",
    "    \n",
    "    gcf_value = gcf(A[0], A[1])\n",
    "    \n",
    "    for i in range(2, len(A)):\n",
    "        gcf_value = gcf(gcf_value, A[i])\n",
    "        \n",
    "    return gcf_value\n",
    "\n",
    "A = [40, 16, 24, 120, 32, 8]\n",
    "\n",
    "gcf_array(A)\n",
    "    \n",
    "    "
   ]
  },
  {
   "cell_type": "code",
   "execution_count": null,
   "metadata": {
    "collapsed": true
   },
   "outputs": [],
   "source": []
  }
 ],
 "metadata": {
  "kernelspec": {
   "display_name": "Python 3",
   "language": "python",
   "name": "python3"
  },
  "language_info": {
   "codemirror_mode": {
    "name": "ipython",
    "version": 3
   },
   "file_extension": ".py",
   "mimetype": "text/x-python",
   "name": "python",
   "nbconvert_exporter": "python",
   "pygments_lexer": "ipython3",
   "version": "3.6.3"
  }
 },
 "nbformat": 4,
 "nbformat_minor": 2
}
